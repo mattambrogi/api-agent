{
  "nbformat": 4,
  "nbformat_minor": 0,
  "metadata": {
    "colab": {
      "provenance": []
    },
    "kernelspec": {
      "name": "python3",
      "display_name": "Python 3"
    },
    "language_info": {
      "name": "python"
    }
  },
  "cells": [
    {
      "cell_type": "code",
      "execution_count": null,
      "metadata": {
        "id": "uaWdNPgixeqY"
      },
      "outputs": [],
      "source": [
        "!pip install --upgrade langchain_openai\n",
        "!pip install --upgrade langchain\n",
        "!pip install --upgrade pandas\n",
        "!pip install --upgrade langchain_experimental"
      ]
    },
    {
      "cell_type": "code",
      "source": [
        "from langchain.agents.agent_types import AgentType\n",
        "from langchain_experimental.agents.agent_toolkits import create_pandas_dataframe_agent\n",
        "from langchain_openai import ChatOpenAI"
      ],
      "metadata": {
        "id": "znLQe9t4xsXp"
      },
      "execution_count": null,
      "outputs": []
    },
    {
      "cell_type": "code",
      "source": [
        "import pandas as pd\n",
        "from langchain_openai import OpenAI"
      ],
      "metadata": {
        "id": "n0EOrU-jyFfK"
      },
      "execution_count": null,
      "outputs": []
    },
    {
      "cell_type": "code",
      "source": [
        "df = pd.read_csv(\n",
        "    \"https://raw.githubusercontent.com/pandas-dev/pandas/main/doc/data/titanic.csv\"\n",
        ")"
      ],
      "metadata": {
        "id": "U_sUBVM1yH_F"
      },
      "execution_count": null,
      "outputs": []
    },
    {
      "cell_type": "code",
      "source": [
        "df.head()"
      ],
      "metadata": {
        "colab": {
          "base_uri": "https://localhost:8080/",
          "height": 206
        },
        "id": "4qrIYN2byOnz",
        "outputId": "2c26161d-94e5-402f-a98c-f6a356653bee"
      },
      "execution_count": null,
      "outputs": [
        {
          "output_type": "execute_result",
          "data": {
            "text/plain": [
              "   PassengerId  Survived  Pclass  \\\n",
              "0            1         0       3   \n",
              "1            2         1       1   \n",
              "2            3         1       3   \n",
              "3            4         1       1   \n",
              "4            5         0       3   \n",
              "\n",
              "                                                Name     Sex   Age  SibSp  \\\n",
              "0                            Braund, Mr. Owen Harris    male  22.0      1   \n",
              "1  Cumings, Mrs. John Bradley (Florence Briggs Th...  female  38.0      1   \n",
              "2                              Heikkinen, Miss Laina  female  26.0      0   \n",
              "3       Futrelle, Mrs. Jacques Heath (Lily May Peel)  female  35.0      1   \n",
              "4                           Allen, Mr. William Henry    male  35.0      0   \n",
              "\n",
              "   Parch            Ticket     Fare Cabin Embarked  \n",
              "0      0         A/5 21171   7.2500   NaN        S  \n",
              "1      0          PC 17599  71.2833   C85        C  \n",
              "2      0  STON/O2. 3101282   7.9250   NaN        S  \n",
              "3      0            113803  53.1000  C123        S  \n",
              "4      0            373450   8.0500   NaN        S  "
            ],
            "text/html": [
              "\n",
              "  <div id=\"df-3d3f15c5-4183-4534-90d7-e1a7a315962c\" class=\"colab-df-container\">\n",
              "    <div>\n",
              "<style scoped>\n",
              "    .dataframe tbody tr th:only-of-type {\n",
              "        vertical-align: middle;\n",
              "    }\n",
              "\n",
              "    .dataframe tbody tr th {\n",
              "        vertical-align: top;\n",
              "    }\n",
              "\n",
              "    .dataframe thead th {\n",
              "        text-align: right;\n",
              "    }\n",
              "</style>\n",
              "<table border=\"1\" class=\"dataframe\">\n",
              "  <thead>\n",
              "    <tr style=\"text-align: right;\">\n",
              "      <th></th>\n",
              "      <th>PassengerId</th>\n",
              "      <th>Survived</th>\n",
              "      <th>Pclass</th>\n",
              "      <th>Name</th>\n",
              "      <th>Sex</th>\n",
              "      <th>Age</th>\n",
              "      <th>SibSp</th>\n",
              "      <th>Parch</th>\n",
              "      <th>Ticket</th>\n",
              "      <th>Fare</th>\n",
              "      <th>Cabin</th>\n",
              "      <th>Embarked</th>\n",
              "    </tr>\n",
              "  </thead>\n",
              "  <tbody>\n",
              "    <tr>\n",
              "      <th>0</th>\n",
              "      <td>1</td>\n",
              "      <td>0</td>\n",
              "      <td>3</td>\n",
              "      <td>Braund, Mr. Owen Harris</td>\n",
              "      <td>male</td>\n",
              "      <td>22.0</td>\n",
              "      <td>1</td>\n",
              "      <td>0</td>\n",
              "      <td>A/5 21171</td>\n",
              "      <td>7.2500</td>\n",
              "      <td>NaN</td>\n",
              "      <td>S</td>\n",
              "    </tr>\n",
              "    <tr>\n",
              "      <th>1</th>\n",
              "      <td>2</td>\n",
              "      <td>1</td>\n",
              "      <td>1</td>\n",
              "      <td>Cumings, Mrs. John Bradley (Florence Briggs Th...</td>\n",
              "      <td>female</td>\n",
              "      <td>38.0</td>\n",
              "      <td>1</td>\n",
              "      <td>0</td>\n",
              "      <td>PC 17599</td>\n",
              "      <td>71.2833</td>\n",
              "      <td>C85</td>\n",
              "      <td>C</td>\n",
              "    </tr>\n",
              "    <tr>\n",
              "      <th>2</th>\n",
              "      <td>3</td>\n",
              "      <td>1</td>\n",
              "      <td>3</td>\n",
              "      <td>Heikkinen, Miss Laina</td>\n",
              "      <td>female</td>\n",
              "      <td>26.0</td>\n",
              "      <td>0</td>\n",
              "      <td>0</td>\n",
              "      <td>STON/O2. 3101282</td>\n",
              "      <td>7.9250</td>\n",
              "      <td>NaN</td>\n",
              "      <td>S</td>\n",
              "    </tr>\n",
              "    <tr>\n",
              "      <th>3</th>\n",
              "      <td>4</td>\n",
              "      <td>1</td>\n",
              "      <td>1</td>\n",
              "      <td>Futrelle, Mrs. Jacques Heath (Lily May Peel)</td>\n",
              "      <td>female</td>\n",
              "      <td>35.0</td>\n",
              "      <td>1</td>\n",
              "      <td>0</td>\n",
              "      <td>113803</td>\n",
              "      <td>53.1000</td>\n",
              "      <td>C123</td>\n",
              "      <td>S</td>\n",
              "    </tr>\n",
              "    <tr>\n",
              "      <th>4</th>\n",
              "      <td>5</td>\n",
              "      <td>0</td>\n",
              "      <td>3</td>\n",
              "      <td>Allen, Mr. William Henry</td>\n",
              "      <td>male</td>\n",
              "      <td>35.0</td>\n",
              "      <td>0</td>\n",
              "      <td>0</td>\n",
              "      <td>373450</td>\n",
              "      <td>8.0500</td>\n",
              "      <td>NaN</td>\n",
              "      <td>S</td>\n",
              "    </tr>\n",
              "  </tbody>\n",
              "</table>\n",
              "</div>\n",
              "    <div class=\"colab-df-buttons\">\n",
              "\n",
              "  <div class=\"colab-df-container\">\n",
              "    <button class=\"colab-df-convert\" onclick=\"convertToInteractive('df-3d3f15c5-4183-4534-90d7-e1a7a315962c')\"\n",
              "            title=\"Convert this dataframe to an interactive table.\"\n",
              "            style=\"display:none;\">\n",
              "\n",
              "  <svg xmlns=\"http://www.w3.org/2000/svg\" height=\"24px\" viewBox=\"0 -960 960 960\">\n",
              "    <path d=\"M120-120v-720h720v720H120Zm60-500h600v-160H180v160Zm220 220h160v-160H400v160Zm0 220h160v-160H400v160ZM180-400h160v-160H180v160Zm440 0h160v-160H620v160ZM180-180h160v-160H180v160Zm440 0h160v-160H620v160Z\"/>\n",
              "  </svg>\n",
              "    </button>\n",
              "\n",
              "  <style>\n",
              "    .colab-df-container {\n",
              "      display:flex;\n",
              "      gap: 12px;\n",
              "    }\n",
              "\n",
              "    .colab-df-convert {\n",
              "      background-color: #E8F0FE;\n",
              "      border: none;\n",
              "      border-radius: 50%;\n",
              "      cursor: pointer;\n",
              "      display: none;\n",
              "      fill: #1967D2;\n",
              "      height: 32px;\n",
              "      padding: 0 0 0 0;\n",
              "      width: 32px;\n",
              "    }\n",
              "\n",
              "    .colab-df-convert:hover {\n",
              "      background-color: #E2EBFA;\n",
              "      box-shadow: 0px 1px 2px rgba(60, 64, 67, 0.3), 0px 1px 3px 1px rgba(60, 64, 67, 0.15);\n",
              "      fill: #174EA6;\n",
              "    }\n",
              "\n",
              "    .colab-df-buttons div {\n",
              "      margin-bottom: 4px;\n",
              "    }\n",
              "\n",
              "    [theme=dark] .colab-df-convert {\n",
              "      background-color: #3B4455;\n",
              "      fill: #D2E3FC;\n",
              "    }\n",
              "\n",
              "    [theme=dark] .colab-df-convert:hover {\n",
              "      background-color: #434B5C;\n",
              "      box-shadow: 0px 1px 3px 1px rgba(0, 0, 0, 0.15);\n",
              "      filter: drop-shadow(0px 1px 2px rgba(0, 0, 0, 0.3));\n",
              "      fill: #FFFFFF;\n",
              "    }\n",
              "  </style>\n",
              "\n",
              "    <script>\n",
              "      const buttonEl =\n",
              "        document.querySelector('#df-3d3f15c5-4183-4534-90d7-e1a7a315962c button.colab-df-convert');\n",
              "      buttonEl.style.display =\n",
              "        google.colab.kernel.accessAllowed ? 'block' : 'none';\n",
              "\n",
              "      async function convertToInteractive(key) {\n",
              "        const element = document.querySelector('#df-3d3f15c5-4183-4534-90d7-e1a7a315962c');\n",
              "        const dataTable =\n",
              "          await google.colab.kernel.invokeFunction('convertToInteractive',\n",
              "                                                    [key], {});\n",
              "        if (!dataTable) return;\n",
              "\n",
              "        const docLinkHtml = 'Like what you see? Visit the ' +\n",
              "          '<a target=\"_blank\" href=https://colab.research.google.com/notebooks/data_table.ipynb>data table notebook</a>'\n",
              "          + ' to learn more about interactive tables.';\n",
              "        element.innerHTML = '';\n",
              "        dataTable['output_type'] = 'display_data';\n",
              "        await google.colab.output.renderOutput(dataTable, element);\n",
              "        const docLink = document.createElement('div');\n",
              "        docLink.innerHTML = docLinkHtml;\n",
              "        element.appendChild(docLink);\n",
              "      }\n",
              "    </script>\n",
              "  </div>\n",
              "\n",
              "\n",
              "<div id=\"df-78fecb81-0ab7-412f-a0a6-eecb3e542381\">\n",
              "  <button class=\"colab-df-quickchart\" onclick=\"quickchart('df-78fecb81-0ab7-412f-a0a6-eecb3e542381')\"\n",
              "            title=\"Suggest charts\"\n",
              "            style=\"display:none;\">\n",
              "\n",
              "<svg xmlns=\"http://www.w3.org/2000/svg\" height=\"24px\"viewBox=\"0 0 24 24\"\n",
              "     width=\"24px\">\n",
              "    <g>\n",
              "        <path d=\"M19 3H5c-1.1 0-2 .9-2 2v14c0 1.1.9 2 2 2h14c1.1 0 2-.9 2-2V5c0-1.1-.9-2-2-2zM9 17H7v-7h2v7zm4 0h-2V7h2v10zm4 0h-2v-4h2v4z\"/>\n",
              "    </g>\n",
              "</svg>\n",
              "  </button>\n",
              "\n",
              "<style>\n",
              "  .colab-df-quickchart {\n",
              "      --bg-color: #E8F0FE;\n",
              "      --fill-color: #1967D2;\n",
              "      --hover-bg-color: #E2EBFA;\n",
              "      --hover-fill-color: #174EA6;\n",
              "      --disabled-fill-color: #AAA;\n",
              "      --disabled-bg-color: #DDD;\n",
              "  }\n",
              "\n",
              "  [theme=dark] .colab-df-quickchart {\n",
              "      --bg-color: #3B4455;\n",
              "      --fill-color: #D2E3FC;\n",
              "      --hover-bg-color: #434B5C;\n",
              "      --hover-fill-color: #FFFFFF;\n",
              "      --disabled-bg-color: #3B4455;\n",
              "      --disabled-fill-color: #666;\n",
              "  }\n",
              "\n",
              "  .colab-df-quickchart {\n",
              "    background-color: var(--bg-color);\n",
              "    border: none;\n",
              "    border-radius: 50%;\n",
              "    cursor: pointer;\n",
              "    display: none;\n",
              "    fill: var(--fill-color);\n",
              "    height: 32px;\n",
              "    padding: 0;\n",
              "    width: 32px;\n",
              "  }\n",
              "\n",
              "  .colab-df-quickchart:hover {\n",
              "    background-color: var(--hover-bg-color);\n",
              "    box-shadow: 0 1px 2px rgba(60, 64, 67, 0.3), 0 1px 3px 1px rgba(60, 64, 67, 0.15);\n",
              "    fill: var(--button-hover-fill-color);\n",
              "  }\n",
              "\n",
              "  .colab-df-quickchart-complete:disabled,\n",
              "  .colab-df-quickchart-complete:disabled:hover {\n",
              "    background-color: var(--disabled-bg-color);\n",
              "    fill: var(--disabled-fill-color);\n",
              "    box-shadow: none;\n",
              "  }\n",
              "\n",
              "  .colab-df-spinner {\n",
              "    border: 2px solid var(--fill-color);\n",
              "    border-color: transparent;\n",
              "    border-bottom-color: var(--fill-color);\n",
              "    animation:\n",
              "      spin 1s steps(1) infinite;\n",
              "  }\n",
              "\n",
              "  @keyframes spin {\n",
              "    0% {\n",
              "      border-color: transparent;\n",
              "      border-bottom-color: var(--fill-color);\n",
              "      border-left-color: var(--fill-color);\n",
              "    }\n",
              "    20% {\n",
              "      border-color: transparent;\n",
              "      border-left-color: var(--fill-color);\n",
              "      border-top-color: var(--fill-color);\n",
              "    }\n",
              "    30% {\n",
              "      border-color: transparent;\n",
              "      border-left-color: var(--fill-color);\n",
              "      border-top-color: var(--fill-color);\n",
              "      border-right-color: var(--fill-color);\n",
              "    }\n",
              "    40% {\n",
              "      border-color: transparent;\n",
              "      border-right-color: var(--fill-color);\n",
              "      border-top-color: var(--fill-color);\n",
              "    }\n",
              "    60% {\n",
              "      border-color: transparent;\n",
              "      border-right-color: var(--fill-color);\n",
              "    }\n",
              "    80% {\n",
              "      border-color: transparent;\n",
              "      border-right-color: var(--fill-color);\n",
              "      border-bottom-color: var(--fill-color);\n",
              "    }\n",
              "    90% {\n",
              "      border-color: transparent;\n",
              "      border-bottom-color: var(--fill-color);\n",
              "    }\n",
              "  }\n",
              "</style>\n",
              "\n",
              "  <script>\n",
              "    async function quickchart(key) {\n",
              "      const quickchartButtonEl =\n",
              "        document.querySelector('#' + key + ' button');\n",
              "      quickchartButtonEl.disabled = true;  // To prevent multiple clicks.\n",
              "      quickchartButtonEl.classList.add('colab-df-spinner');\n",
              "      try {\n",
              "        const charts = await google.colab.kernel.invokeFunction(\n",
              "            'suggestCharts', [key], {});\n",
              "      } catch (error) {\n",
              "        console.error('Error during call to suggestCharts:', error);\n",
              "      }\n",
              "      quickchartButtonEl.classList.remove('colab-df-spinner');\n",
              "      quickchartButtonEl.classList.add('colab-df-quickchart-complete');\n",
              "    }\n",
              "    (() => {\n",
              "      let quickchartButtonEl =\n",
              "        document.querySelector('#df-78fecb81-0ab7-412f-a0a6-eecb3e542381 button');\n",
              "      quickchartButtonEl.style.display =\n",
              "        google.colab.kernel.accessAllowed ? 'block' : 'none';\n",
              "    })();\n",
              "  </script>\n",
              "</div>\n",
              "\n",
              "    </div>\n",
              "  </div>\n"
            ],
            "application/vnd.google.colaboratory.intrinsic+json": {
              "type": "dataframe",
              "variable_name": "df",
              "summary": "{\n  \"name\": \"df\",\n  \"rows\": 891,\n  \"fields\": [\n    {\n      \"column\": \"PassengerId\",\n      \"properties\": {\n        \"dtype\": \"number\",\n        \"std\": 257,\n        \"min\": 1,\n        \"max\": 891,\n        \"num_unique_values\": 891,\n        \"samples\": [\n          710,\n          440,\n          841\n        ],\n        \"semantic_type\": \"\",\n        \"description\": \"\"\n      }\n    },\n    {\n      \"column\": \"Survived\",\n      \"properties\": {\n        \"dtype\": \"number\",\n        \"std\": 0,\n        \"min\": 0,\n        \"max\": 1,\n        \"num_unique_values\": 2,\n        \"samples\": [\n          1,\n          0\n        ],\n        \"semantic_type\": \"\",\n        \"description\": \"\"\n      }\n    },\n    {\n      \"column\": \"Pclass\",\n      \"properties\": {\n        \"dtype\": \"number\",\n        \"std\": 0,\n        \"min\": 1,\n        \"max\": 3,\n        \"num_unique_values\": 3,\n        \"samples\": [\n          3,\n          1\n        ],\n        \"semantic_type\": \"\",\n        \"description\": \"\"\n      }\n    },\n    {\n      \"column\": \"Name\",\n      \"properties\": {\n        \"dtype\": \"string\",\n        \"num_unique_values\": 891,\n        \"samples\": [\n          \"Moubarek, Master Halim Gonios (\\\"William George\\\")\",\n          \"Kvillner, Mr. Johan Henrik Johannesson\"\n        ],\n        \"semantic_type\": \"\",\n        \"description\": \"\"\n      }\n    },\n    {\n      \"column\": \"Sex\",\n      \"properties\": {\n        \"dtype\": \"category\",\n        \"num_unique_values\": 2,\n        \"samples\": [\n          \"female\",\n          \"male\"\n        ],\n        \"semantic_type\": \"\",\n        \"description\": \"\"\n      }\n    },\n    {\n      \"column\": \"Age\",\n      \"properties\": {\n        \"dtype\": \"number\",\n        \"std\": 14.526497332334044,\n        \"min\": 0.42,\n        \"max\": 80.0,\n        \"num_unique_values\": 88,\n        \"samples\": [\n          0.75,\n          22.0\n        ],\n        \"semantic_type\": \"\",\n        \"description\": \"\"\n      }\n    },\n    {\n      \"column\": \"SibSp\",\n      \"properties\": {\n        \"dtype\": \"number\",\n        \"std\": 1,\n        \"min\": 0,\n        \"max\": 8,\n        \"num_unique_values\": 7,\n        \"samples\": [\n          1,\n          0\n        ],\n        \"semantic_type\": \"\",\n        \"description\": \"\"\n      }\n    },\n    {\n      \"column\": \"Parch\",\n      \"properties\": {\n        \"dtype\": \"number\",\n        \"std\": 0,\n        \"min\": 0,\n        \"max\": 6,\n        \"num_unique_values\": 7,\n        \"samples\": [\n          0,\n          1\n        ],\n        \"semantic_type\": \"\",\n        \"description\": \"\"\n      }\n    },\n    {\n      \"column\": \"Ticket\",\n      \"properties\": {\n        \"dtype\": \"string\",\n        \"num_unique_values\": 681,\n        \"samples\": [\n          \"11774\",\n          \"248740\"\n        ],\n        \"semantic_type\": \"\",\n        \"description\": \"\"\n      }\n    },\n    {\n      \"column\": \"Fare\",\n      \"properties\": {\n        \"dtype\": \"number\",\n        \"std\": 49.693428597180905,\n        \"min\": 0.0,\n        \"max\": 512.3292,\n        \"num_unique_values\": 248,\n        \"samples\": [\n          11.2417,\n          51.8625\n        ],\n        \"semantic_type\": \"\",\n        \"description\": \"\"\n      }\n    },\n    {\n      \"column\": \"Cabin\",\n      \"properties\": {\n        \"dtype\": \"category\",\n        \"num_unique_values\": 147,\n        \"samples\": [\n          \"D45\",\n          \"B49\"\n        ],\n        \"semantic_type\": \"\",\n        \"description\": \"\"\n      }\n    },\n    {\n      \"column\": \"Embarked\",\n      \"properties\": {\n        \"dtype\": \"category\",\n        \"num_unique_values\": 3,\n        \"samples\": [\n          \"S\",\n          \"C\"\n        ],\n        \"semantic_type\": \"\",\n        \"description\": \"\"\n      }\n    }\n  ]\n}"
            }
          },
          "metadata": {},
          "execution_count": 9
        }
      ]
    },
    {
      "cell_type": "code",
      "source": [
        "import os\n",
        "\n",
        "os.environ[\"OPENAI_API_KEY\"] = \"\""
      ],
      "metadata": {
        "id": "fFZMDA32yQr6"
      },
      "execution_count": null,
      "outputs": []
    },
    {
      "cell_type": "code",
      "source": [
        "pandas_agent = create_pandas_dataframe_agent(\n",
        "    ChatOpenAI(temperature=0, model=\"gpt-4o\"),\n",
        "    df,\n",
        "    verbose=True,\n",
        "    allow_dangerous_code=True,\n",
        "    agent_type=AgentType.OPENAI_FUNCTIONS,\n",
        ")"
      ],
      "metadata": {
        "id": "lkXQeZ1JyPTp"
      },
      "execution_count": null,
      "outputs": []
    },
    {
      "cell_type": "code",
      "source": [
        "pandas_agent.invoke(\"how many rows are there?\")"
      ],
      "metadata": {
        "colab": {
          "base_uri": "https://localhost:8080/"
        },
        "id": "mqmKWns2y2G5",
        "outputId": "8ce6e511-d8ea-42ae-d162-65f84e265d06"
      },
      "execution_count": null,
      "outputs": [
        {
          "output_type": "stream",
          "name": "stdout",
          "text": [
            "\n",
            "\n",
            "\u001b[1m> Entering new AgentExecutor chain...\u001b[0m\n",
            "\u001b[32;1m\u001b[1;3m\n",
            "Invoking: `python_repl_ast` with `{'query': 'len(df)'}`\n",
            "\n",
            "\n",
            "\u001b[0m\u001b[36;1m\u001b[1;3m891\u001b[0m\u001b[32;1m\u001b[1;3mThe dataframe contains 891 rows.\u001b[0m\n",
            "\n",
            "\u001b[1m> Finished chain.\u001b[0m\n"
          ]
        },
        {
          "output_type": "execute_result",
          "data": {
            "text/plain": [
              "{'input': 'how many rows are there?',\n",
              " 'output': 'The dataframe contains 891 rows.'}"
            ]
          },
          "metadata": {},
          "execution_count": 13
        }
      ]
    },
    {
      "cell_type": "code",
      "source": [
        "from langchain_core.tools import StructuredTool"
      ],
      "metadata": {
        "id": "Ogj6Nuv32DZx"
      },
      "execution_count": null,
      "outputs": []
    },
    {
      "cell_type": "code",
      "source": [
        "from langchain.agents import AgentExecutor, create_openai_tools_agent\n",
        "from langchain_core.tools import tool"
      ],
      "metadata": {
        "id": "Bc27VtQ809cb"
      },
      "execution_count": null,
      "outputs": []
    },
    {
      "cell_type": "code",
      "source": [
        "# analysis_tool = StructuredTool.from_function(\n",
        "#     func=pandas_agent.invoke,\n",
        "#     name=\"Analysis tool\",\n",
        "#     description=\"Uses pandas agent to analyze the data\",\n",
        "#     # args_schema=CalculatorInput,\n",
        "#     return_direct=True,\n",
        "#     # coroutine= ... <- you can specify an async method if desired as well\n",
        "# )"
      ],
      "metadata": {
        "id": "0byyzSH61yHt"
      },
      "execution_count": null,
      "outputs": []
    },
    {
      "cell_type": "code",
      "source": [
        "@tool\n",
        "def analysis_tool(query: str) -> str:\n",
        "    \"\"\"\n",
        "    Uses pandas agent to analyze the data.\n",
        "    \"\"\"\n",
        "    return pandas_agent.invoke(query)"
      ],
      "metadata": {
        "id": "ALCla8923ZNm"
      },
      "execution_count": null,
      "outputs": []
    },
    {
      "cell_type": "code",
      "source": [
        "from typing import List, Dict, Any\n",
        "\n",
        "@tool\n",
        "def analysis_tool(query: str, json_data: List[Dict[str, Any]]) -> str:\n",
        "    \"\"\"\n",
        "    Uses pandas agent to analyze the data.\n",
        "    Should take in query string and also the full json data as 'json_data'\n",
        "    \"\"\"\n",
        "    df = pd.DataFrame(json_data)\n",
        "    pandas_agent = create_pandas_dataframe_agent(\n",
        "      ChatOpenAI(temperature=0, model=\"gpt-4o\"),\n",
        "      df,\n",
        "      verbose=True,\n",
        "      allow_dangerous_code=True,\n",
        "      agent_type=AgentType.OPENAI_FUNCTIONS,\n",
        "    )\n",
        "    return pandas_agent.invoke(query)"
      ],
      "metadata": {
        "id": "MvbLS5Qf4XIq"
      },
      "execution_count": null,
      "outputs": []
    },
    {
      "cell_type": "code",
      "source": [
        "import requests\n",
        "from typing import List, Dict, Any\n",
        "\n",
        "@tool\n",
        "def get_todos() -> List[Dict[str, Any]]:\n",
        "    \"\"\"\n",
        "    Fetch all todos from the API.\n",
        "    Returns a list of dictionaries containing todo items.\n",
        "    \"\"\"\n",
        "    response = requests.get(\"https://jsonplaceholder.typicode.com/todos\")\n",
        "    response.raise_for_status()\n",
        "    return response.json()\n",
        "\n",
        "@tool\n",
        "def get_posts() -> List[Dict[str, Any]]:\n",
        "    \"\"\"\n",
        "    Fetch all posts from the API.\n",
        "    Returns a list of dictionaries containing post items.\n",
        "    \"\"\"\n",
        "    response = requests.get(\"https://jsonplaceholder.typicode.com/posts\")\n",
        "    response.raise_for_status()\n",
        "    return response.json()\n",
        "\n",
        "@tool\n",
        "def get_comments() -> List[Dict[str, Any]]:\n",
        "    \"\"\"\n",
        "    Fetch all comments from the API.\n",
        "    Returns a list of dictionaries containing comment items.\n",
        "    \"\"\"\n",
        "    response = requests.get(\"https://jsonplaceholder.typicode.com/comments\")\n",
        "    response.raise_for_status()\n",
        "    return response.json()"
      ],
      "metadata": {
        "id": "dXCGTCqS0p4f"
      },
      "execution_count": null,
      "outputs": []
    },
    {
      "cell_type": "code",
      "source": [
        "from langchain_core.prompts import ChatPromptTemplate, MessagesPlaceholder\n",
        "\n",
        "prompt = ChatPromptTemplate.from_messages(\n",
        "    [\n",
        "        (\"system\", \"You are an LLM powered agent which analyzes data on behalf of a user within a blogging platform. You have access to their posts, comments, and todos via api connector tools. You also have a tool which you can use to analyze the response data. If you use the analysis tool, pass it both a query and the json reponse from the api tool as json_data.\"),\n",
        "        MessagesPlaceholder(\"chat_history\", optional=True),\n",
        "        (\"human\", \"{input}\"),\n",
        "        MessagesPlaceholder(\"agent_scratchpad\"),\n",
        "    ]\n",
        ")"
      ],
      "metadata": {
        "id": "a9evfMUa2t9P"
      },
      "execution_count": null,
      "outputs": []
    },
    {
      "cell_type": "code",
      "source": [
        "llm = ChatOpenAI(model=\"gpt-4o\", temperature=0)\n",
        "tools = [analysis_tool, get_todos, get_posts, get_comments]\n",
        "\n",
        "# Construct the OpenAI Tools agent\n",
        "agent = create_openai_tools_agent(llm, tools, prompt)"
      ],
      "metadata": {
        "id": "1spVD0zU2FvT"
      },
      "execution_count": null,
      "outputs": []
    },
    {
      "cell_type": "code",
      "source": [
        "agent_executor = AgentExecutor(agent=agent, tools=tools, verbose=True)"
      ],
      "metadata": {
        "id": "vh3t5jG229UU"
      },
      "execution_count": null,
      "outputs": []
    },
    {
      "cell_type": "code",
      "source": [
        "agent_executor.invoke({\"input\": \"how many todos do I have?\"})"
      ],
      "metadata": {
        "colab": {
          "base_uri": "https://localhost:8080/"
        },
        "id": "6ikvLn213I4u",
        "outputId": "35c44c53-a69c-47f0-e8ab-b3b3d4ae0dbe"
      },
      "execution_count": null,
      "outputs": [
        {
          "output_type": "stream",
          "name": "stdout",
          "text": [
            "\n",
            "\n",
            "\u001b[1m> Entering new AgentExecutor chain...\u001b[0m\n",
            "\u001b[32;1m\u001b[1;3m\n",
            "Invoking: `get_todos` with `{}`\n",
            "\n",
            "\n",
            "\u001b[0m\u001b[33;1m\u001b[1;3m[{'userId': 1, 'id': 1, 'title': 'delectus aut autem', 'completed': False}, {'userId': 1, 'id': 2, 'title': 'quis ut nam facilis et officia qui', 'completed': False}, {'userId': 1, 'id': 3, 'title': 'fugiat veniam minus', 'completed': False}, {'userId': 1, 'id': 4, 'title': 'et porro tempora', 'completed': True}, {'userId': 1, 'id': 5, 'title': 'laboriosam mollitia et enim quasi adipisci quia provident illum', 'completed': False}, {'userId': 1, 'id': 6, 'title': 'qui ullam ratione quibusdam voluptatem quia omnis', 'completed': False}, {'userId': 1, 'id': 7, 'title': 'illo expedita consequatur quia in', 'completed': False}, {'userId': 1, 'id': 8, 'title': 'quo adipisci enim quam ut ab', 'completed': True}, {'userId': 1, 'id': 9, 'title': 'molestiae perspiciatis ipsa', 'completed': False}, {'userId': 1, 'id': 10, 'title': 'illo est ratione doloremque quia maiores aut', 'completed': True}, {'userId': 1, 'id': 11, 'title': 'vero rerum temporibus dolor', 'completed': True}, {'userId': 1, 'id': 12, 'title': 'ipsa repellendus fugit nisi', 'completed': True}, {'userId': 1, 'id': 13, 'title': 'et doloremque nulla', 'completed': False}, {'userId': 1, 'id': 14, 'title': 'repellendus sunt dolores architecto voluptatum', 'completed': True}, {'userId': 1, 'id': 15, 'title': 'ab voluptatum amet voluptas', 'completed': True}, {'userId': 1, 'id': 16, 'title': 'accusamus eos facilis sint et aut voluptatem', 'completed': True}, {'userId': 1, 'id': 17, 'title': 'quo laboriosam deleniti aut qui', 'completed': True}, {'userId': 1, 'id': 18, 'title': 'dolorum est consequatur ea mollitia in culpa', 'completed': False}, {'userId': 1, 'id': 19, 'title': 'molestiae ipsa aut voluptatibus pariatur dolor nihil', 'completed': True}, {'userId': 1, 'id': 20, 'title': 'ullam nobis libero sapiente ad optio sint', 'completed': True}, {'userId': 2, 'id': 21, 'title': 'suscipit repellat esse quibusdam voluptatem incidunt', 'completed': False}, {'userId': 2, 'id': 22, 'title': 'distinctio vitae autem nihil ut molestias quo', 'completed': True}, {'userId': 2, 'id': 23, 'title': 'et itaque necessitatibus maxime molestiae qui quas velit', 'completed': False}, {'userId': 2, 'id': 24, 'title': 'adipisci non ad dicta qui amet quaerat doloribus ea', 'completed': False}, {'userId': 2, 'id': 25, 'title': 'voluptas quo tenetur perspiciatis explicabo natus', 'completed': True}, {'userId': 2, 'id': 26, 'title': 'aliquam aut quasi', 'completed': True}, {'userId': 2, 'id': 27, 'title': 'veritatis pariatur delectus', 'completed': True}, {'userId': 2, 'id': 28, 'title': 'nesciunt totam sit blanditiis sit', 'completed': False}, {'userId': 2, 'id': 29, 'title': 'laborum aut in quam', 'completed': False}, {'userId': 2, 'id': 30, 'title': 'nemo perspiciatis repellat ut dolor libero commodi blanditiis omnis', 'completed': True}, {'userId': 2, 'id': 31, 'title': 'repudiandae totam in est sint facere fuga', 'completed': False}, {'userId': 2, 'id': 32, 'title': 'earum doloribus ea doloremque quis', 'completed': False}, {'userId': 2, 'id': 33, 'title': 'sint sit aut vero', 'completed': False}, {'userId': 2, 'id': 34, 'title': 'porro aut necessitatibus eaque distinctio', 'completed': False}, {'userId': 2, 'id': 35, 'title': 'repellendus veritatis molestias dicta incidunt', 'completed': True}, {'userId': 2, 'id': 36, 'title': 'excepturi deleniti adipisci voluptatem et neque optio illum ad', 'completed': True}, {'userId': 2, 'id': 37, 'title': 'sunt cum tempora', 'completed': False}, {'userId': 2, 'id': 38, 'title': 'totam quia non', 'completed': False}, {'userId': 2, 'id': 39, 'title': 'doloremque quibusdam asperiores libero corrupti illum qui omnis', 'completed': False}, {'userId': 2, 'id': 40, 'title': 'totam atque quo nesciunt', 'completed': True}, {'userId': 3, 'id': 41, 'title': 'aliquid amet impedit consequatur aspernatur placeat eaque fugiat suscipit', 'completed': False}, {'userId': 3, 'id': 42, 'title': 'rerum perferendis error quia ut eveniet', 'completed': False}, {'userId': 3, 'id': 43, 'title': 'tempore ut sint quis recusandae', 'completed': True}, {'userId': 3, 'id': 44, 'title': 'cum debitis quis accusamus doloremque ipsa natus sapiente omnis', 'completed': True}, {'userId': 3, 'id': 45, 'title': 'velit soluta adipisci molestias reiciendis harum', 'completed': False}, {'userId': 3, 'id': 46, 'title': 'vel voluptatem repellat nihil placeat corporis', 'completed': False}, {'userId': 3, 'id': 47, 'title': 'nam qui rerum fugiat accusamus', 'completed': False}, {'userId': 3, 'id': 48, 'title': 'sit reprehenderit omnis quia', 'completed': False}, {'userId': 3, 'id': 49, 'title': 'ut necessitatibus aut maiores debitis officia blanditiis velit et', 'completed': False}, {'userId': 3, 'id': 50, 'title': 'cupiditate necessitatibus ullam aut quis dolor voluptate', 'completed': True}, {'userId': 3, 'id': 51, 'title': 'distinctio exercitationem ab doloribus', 'completed': False}, {'userId': 3, 'id': 52, 'title': 'nesciunt dolorum quis recusandae ad pariatur ratione', 'completed': False}, {'userId': 3, 'id': 53, 'title': 'qui labore est occaecati recusandae aliquid quam', 'completed': False}, {'userId': 3, 'id': 54, 'title': 'quis et est ut voluptate quam dolor', 'completed': True}, {'userId': 3, 'id': 55, 'title': 'voluptatum omnis minima qui occaecati provident nulla voluptatem ratione', 'completed': True}, {'userId': 3, 'id': 56, 'title': 'deleniti ea temporibus enim', 'completed': True}, {'userId': 3, 'id': 57, 'title': 'pariatur et magnam ea doloribus similique voluptatem rerum quia', 'completed': False}, {'userId': 3, 'id': 58, 'title': 'est dicta totam qui explicabo doloribus qui dignissimos', 'completed': False}, {'userId': 3, 'id': 59, 'title': 'perspiciatis velit id laborum placeat iusto et aliquam odio', 'completed': False}, {'userId': 3, 'id': 60, 'title': 'et sequi qui architecto ut adipisci', 'completed': True}, {'userId': 4, 'id': 61, 'title': 'odit optio omnis qui sunt', 'completed': True}, {'userId': 4, 'id': 62, 'title': 'et placeat et tempore aspernatur sint numquam', 'completed': False}, {'userId': 4, 'id': 63, 'title': 'doloremque aut dolores quidem fuga qui nulla', 'completed': True}, {'userId': 4, 'id': 64, 'title': 'voluptas consequatur qui ut quia magnam nemo esse', 'completed': False}, {'userId': 4, 'id': 65, 'title': 'fugiat pariatur ratione ut asperiores necessitatibus magni', 'completed': False}, {'userId': 4, 'id': 66, 'title': 'rerum eum molestias autem voluptatum sit optio', 'completed': False}, {'userId': 4, 'id': 67, 'title': 'quia voluptatibus voluptatem quos similique maiores repellat', 'completed': False}, {'userId': 4, 'id': 68, 'title': 'aut id perspiciatis voluptatem iusto', 'completed': False}, {'userId': 4, 'id': 69, 'title': 'doloribus sint dolorum ab adipisci itaque dignissimos aliquam suscipit', 'completed': False}, {'userId': 4, 'id': 70, 'title': 'ut sequi accusantium et mollitia delectus sunt', 'completed': False}, {'userId': 4, 'id': 71, 'title': 'aut velit saepe ullam', 'completed': False}, {'userId': 4, 'id': 72, 'title': 'praesentium facilis facere quis harum voluptatibus voluptatem eum', 'completed': False}, {'userId': 4, 'id': 73, 'title': 'sint amet quia totam corporis qui exercitationem commodi', 'completed': True}, {'userId': 4, 'id': 74, 'title': 'expedita tempore nobis eveniet laborum maiores', 'completed': False}, {'userId': 4, 'id': 75, 'title': 'occaecati adipisci est possimus totam', 'completed': False}, {'userId': 4, 'id': 76, 'title': 'sequi dolorem sed', 'completed': True}, {'userId': 4, 'id': 77, 'title': 'maiores aut nesciunt delectus exercitationem vel assumenda eligendi at', 'completed': False}, {'userId': 4, 'id': 78, 'title': 'reiciendis est magnam amet nemo iste recusandae impedit quaerat', 'completed': False}, {'userId': 4, 'id': 79, 'title': 'eum ipsa maxime ut', 'completed': True}, {'userId': 4, 'id': 80, 'title': 'tempore molestias dolores rerum sequi voluptates ipsum consequatur', 'completed': True}, {'userId': 5, 'id': 81, 'title': 'suscipit qui totam', 'completed': True}, {'userId': 5, 'id': 82, 'title': 'voluptates eum voluptas et dicta', 'completed': False}, {'userId': 5, 'id': 83, 'title': 'quidem at rerum quis ex aut sit quam', 'completed': True}, {'userId': 5, 'id': 84, 'title': 'sunt veritatis ut voluptate', 'completed': False}, {'userId': 5, 'id': 85, 'title': 'et quia ad iste a', 'completed': True}, {'userId': 5, 'id': 86, 'title': 'incidunt ut saepe autem', 'completed': True}, {'userId': 5, 'id': 87, 'title': 'laudantium quae eligendi consequatur quia et vero autem', 'completed': True}, {'userId': 5, 'id': 88, 'title': 'vitae aut excepturi laboriosam sint aliquam et et accusantium', 'completed': False}, {'userId': 5, 'id': 89, 'title': 'sequi ut omnis et', 'completed': True}, {'userId': 5, 'id': 90, 'title': 'molestiae nisi accusantium tenetur dolorem et', 'completed': True}, {'userId': 5, 'id': 91, 'title': 'nulla quis consequatur saepe qui id expedita', 'completed': True}, {'userId': 5, 'id': 92, 'title': 'in omnis laboriosam', 'completed': True}, {'userId': 5, 'id': 93, 'title': 'odio iure consequatur molestiae quibusdam necessitatibus quia sint', 'completed': True}, {'userId': 5, 'id': 94, 'title': 'facilis modi saepe mollitia', 'completed': False}, {'userId': 5, 'id': 95, 'title': 'vel nihil et molestiae iusto assumenda nemo quo ut', 'completed': True}, {'userId': 5, 'id': 96, 'title': 'nobis suscipit ducimus enim asperiores voluptas', 'completed': False}, {'userId': 5, 'id': 97, 'title': 'dolorum laboriosam eos qui iure aliquam', 'completed': False}, {'userId': 5, 'id': 98, 'title': 'debitis accusantium ut quo facilis nihil quis sapiente necessitatibus', 'completed': True}, {'userId': 5, 'id': 99, 'title': 'neque voluptates ratione', 'completed': False}, {'userId': 5, 'id': 100, 'title': 'excepturi a et neque qui expedita vel voluptate', 'completed': False}, {'userId': 6, 'id': 101, 'title': 'explicabo enim cumque porro aperiam occaecati minima', 'completed': False}, {'userId': 6, 'id': 102, 'title': 'sed ab consequatur', 'completed': False}, {'userId': 6, 'id': 103, 'title': 'non sunt delectus illo nulla tenetur enim omnis', 'completed': False}, {'userId': 6, 'id': 104, 'title': 'excepturi non laudantium quo', 'completed': False}, {'userId': 6, 'id': 105, 'title': 'totam quia dolorem et illum repellat voluptas optio', 'completed': True}, {'userId': 6, 'id': 106, 'title': 'ad illo quis voluptatem temporibus', 'completed': True}, {'userId': 6, 'id': 107, 'title': 'praesentium facilis omnis laudantium fugit ad iusto nihil nesciunt', 'completed': False}, {'userId': 6, 'id': 108, 'title': 'a eos eaque nihil et exercitationem incidunt delectus', 'completed': True}, {'userId': 6, 'id': 109, 'title': 'autem temporibus harum quisquam in culpa', 'completed': True}, {'userId': 6, 'id': 110, 'title': 'aut aut ea corporis', 'completed': True}, {'userId': 6, 'id': 111, 'title': 'magni accusantium labore et id quis provident', 'completed': False}, {'userId': 6, 'id': 112, 'title': 'consectetur impedit quisquam qui deserunt non rerum consequuntur eius', 'completed': False}, {'userId': 6, 'id': 113, 'title': 'quia atque aliquam sunt impedit voluptatum rerum assumenda nisi', 'completed': False}, {'userId': 6, 'id': 114, 'title': 'cupiditate quos possimus corporis quisquam exercitationem beatae', 'completed': False}, {'userId': 6, 'id': 115, 'title': 'sed et ea eum', 'completed': False}, {'userId': 6, 'id': 116, 'title': 'ipsa dolores vel facilis ut', 'completed': True}, {'userId': 6, 'id': 117, 'title': 'sequi quae est et qui qui eveniet asperiores', 'completed': False}, {'userId': 6, 'id': 118, 'title': 'quia modi consequatur vero fugiat', 'completed': False}, {'userId': 6, 'id': 119, 'title': 'corporis ducimus ea perspiciatis iste', 'completed': False}, {'userId': 6, 'id': 120, 'title': 'dolorem laboriosam vel voluptas et aliquam quasi', 'completed': False}, {'userId': 7, 'id': 121, 'title': 'inventore aut nihil minima laudantium hic qui omnis', 'completed': True}, {'userId': 7, 'id': 122, 'title': 'provident aut nobis culpa', 'completed': True}, {'userId': 7, 'id': 123, 'title': 'esse et quis iste est earum aut impedit', 'completed': False}, {'userId': 7, 'id': 124, 'title': 'qui consectetur id', 'completed': False}, {'userId': 7, 'id': 125, 'title': 'aut quasi autem iste tempore illum possimus', 'completed': False}, {'userId': 7, 'id': 126, 'title': 'ut asperiores perspiciatis veniam ipsum rerum saepe', 'completed': True}, {'userId': 7, 'id': 127, 'title': 'voluptatem libero consectetur rerum ut', 'completed': True}, {'userId': 7, 'id': 128, 'title': 'eius omnis est qui voluptatem autem', 'completed': False}, {'userId': 7, 'id': 129, 'title': 'rerum culpa quis harum', 'completed': False}, {'userId': 7, 'id': 130, 'title': 'nulla aliquid eveniet harum laborum libero alias ut unde', 'completed': True}, {'userId': 7, 'id': 131, 'title': 'qui ea incidunt quis', 'completed': False}, {'userId': 7, 'id': 132, 'title': 'qui molestiae voluptatibus velit iure harum quisquam', 'completed': True}, {'userId': 7, 'id': 133, 'title': 'et labore eos enim rerum consequatur sunt', 'completed': True}, {'userId': 7, 'id': 134, 'title': 'molestiae doloribus et laborum quod ea', 'completed': False}, {'userId': 7, 'id': 135, 'title': 'facere ipsa nam eum voluptates reiciendis vero qui', 'completed': False}, {'userId': 7, 'id': 136, 'title': 'asperiores illo tempora fuga sed ut quasi adipisci', 'completed': False}, {'userId': 7, 'id': 137, 'title': 'qui sit non', 'completed': False}, {'userId': 7, 'id': 138, 'title': 'placeat minima consequatur rem qui ut', 'completed': True}, {'userId': 7, 'id': 139, 'title': 'consequatur doloribus id possimus voluptas a voluptatem', 'completed': False}, {'userId': 7, 'id': 140, 'title': 'aut consectetur in blanditiis deserunt quia sed laboriosam', 'completed': True}, {'userId': 8, 'id': 141, 'title': 'explicabo consectetur debitis voluptates quas quae culpa rerum non', 'completed': True}, {'userId': 8, 'id': 142, 'title': 'maiores accusantium architecto necessitatibus reiciendis ea aut', 'completed': True}, {'userId': 8, 'id': 143, 'title': 'eum non recusandae cupiditate animi', 'completed': False}, {'userId': 8, 'id': 144, 'title': 'ut eum exercitationem sint', 'completed': False}, {'userId': 8, 'id': 145, 'title': 'beatae qui ullam incidunt voluptatem non nisi aliquam', 'completed': False}, {'userId': 8, 'id': 146, 'title': 'molestiae suscipit ratione nihil odio libero impedit vero totam', 'completed': True}, {'userId': 8, 'id': 147, 'title': 'eum itaque quod reprehenderit et facilis dolor autem ut', 'completed': True}, {'userId': 8, 'id': 148, 'title': 'esse quas et quo quasi exercitationem', 'completed': False}, {'userId': 8, 'id': 149, 'title': 'animi voluptas quod perferendis est', 'completed': False}, {'userId': 8, 'id': 150, 'title': 'eos amet tempore laudantium fugit a', 'completed': False}, {'userId': 8, 'id': 151, 'title': 'accusamus adipisci dicta qui quo ea explicabo sed vero', 'completed': True}, {'userId': 8, 'id': 152, 'title': 'odit eligendi recusandae doloremque cumque non', 'completed': False}, {'userId': 8, 'id': 153, 'title': 'ea aperiam consequatur qui repellat eos', 'completed': False}, {'userId': 8, 'id': 154, 'title': 'rerum non ex sapiente', 'completed': True}, {'userId': 8, 'id': 155, 'title': 'voluptatem nobis consequatur et assumenda magnam', 'completed': True}, {'userId': 8, 'id': 156, 'title': 'nam quia quia nulla repellat assumenda quibusdam sit nobis', 'completed': True}, {'userId': 8, 'id': 157, 'title': 'dolorem veniam quisquam deserunt repellendus', 'completed': True}, {'userId': 8, 'id': 158, 'title': 'debitis vitae delectus et harum accusamus aut deleniti a', 'completed': True}, {'userId': 8, 'id': 159, 'title': 'debitis adipisci quibusdam aliquam sed dolore ea praesentium nobis', 'completed': True}, {'userId': 8, 'id': 160, 'title': 'et praesentium aliquam est', 'completed': False}, {'userId': 9, 'id': 161, 'title': 'ex hic consequuntur earum omnis alias ut occaecati culpa', 'completed': True}, {'userId': 9, 'id': 162, 'title': 'omnis laboriosam molestias animi sunt dolore', 'completed': True}, {'userId': 9, 'id': 163, 'title': 'natus corrupti maxime laudantium et voluptatem laboriosam odit', 'completed': False}, {'userId': 9, 'id': 164, 'title': 'reprehenderit quos aut aut consequatur est sed', 'completed': False}, {'userId': 9, 'id': 165, 'title': 'fugiat perferendis sed aut quidem', 'completed': False}, {'userId': 9, 'id': 166, 'title': 'quos quo possimus suscipit minima ut', 'completed': False}, {'userId': 9, 'id': 167, 'title': 'et quis minus quo a asperiores molestiae', 'completed': False}, {'userId': 9, 'id': 168, 'title': 'recusandae quia qui sunt libero', 'completed': False}, {'userId': 9, 'id': 169, 'title': 'ea odio perferendis officiis', 'completed': True}, {'userId': 9, 'id': 170, 'title': 'quisquam aliquam quia doloribus aut', 'completed': False}, {'userId': 9, 'id': 171, 'title': 'fugiat aut voluptatibus corrupti deleniti velit iste odio', 'completed': True}, {'userId': 9, 'id': 172, 'title': 'et provident amet rerum consectetur et voluptatum', 'completed': False}, {'userId': 9, 'id': 173, 'title': 'harum ad aperiam quis', 'completed': False}, {'userId': 9, 'id': 174, 'title': 'similique aut quo', 'completed': False}, {'userId': 9, 'id': 175, 'title': 'laudantium eius officia perferendis provident perspiciatis asperiores', 'completed': True}, {'userId': 9, 'id': 176, 'title': 'magni soluta corrupti ut maiores rem quidem', 'completed': False}, {'userId': 9, 'id': 177, 'title': 'et placeat temporibus voluptas est tempora quos quibusdam', 'completed': False}, {'userId': 9, 'id': 178, 'title': 'nesciunt itaque commodi tempore', 'completed': True}, {'userId': 9, 'id': 179, 'title': 'omnis consequuntur cupiditate impedit itaque ipsam quo', 'completed': True}, {'userId': 9, 'id': 180, 'title': 'debitis nisi et dolorem repellat et', 'completed': True}, {'userId': 10, 'id': 181, 'title': 'ut cupiditate sequi aliquam fuga maiores', 'completed': False}, {'userId': 10, 'id': 182, 'title': 'inventore saepe cumque et aut illum enim', 'completed': True}, {'userId': 10, 'id': 183, 'title': 'omnis nulla eum aliquam distinctio', 'completed': True}, {'userId': 10, 'id': 184, 'title': 'molestias modi perferendis perspiciatis', 'completed': False}, {'userId': 10, 'id': 185, 'title': 'voluptates dignissimos sed doloribus animi quaerat aut', 'completed': False}, {'userId': 10, 'id': 186, 'title': 'explicabo odio est et', 'completed': False}, {'userId': 10, 'id': 187, 'title': 'consequuntur animi possimus', 'completed': False}, {'userId': 10, 'id': 188, 'title': 'vel non beatae est', 'completed': True}, {'userId': 10, 'id': 189, 'title': 'culpa eius et voluptatem et', 'completed': True}, {'userId': 10, 'id': 190, 'title': 'accusamus sint iusto et voluptatem exercitationem', 'completed': True}, {'userId': 10, 'id': 191, 'title': 'temporibus atque distinctio omnis eius impedit tempore molestias pariatur', 'completed': True}, {'userId': 10, 'id': 192, 'title': 'ut quas possimus exercitationem sint voluptates', 'completed': False}, {'userId': 10, 'id': 193, 'title': 'rerum debitis voluptatem qui eveniet tempora distinctio a', 'completed': True}, {'userId': 10, 'id': 194, 'title': 'sed ut vero sit molestiae', 'completed': False}, {'userId': 10, 'id': 195, 'title': 'rerum ex veniam mollitia voluptatibus pariatur', 'completed': True}, {'userId': 10, 'id': 196, 'title': 'consequuntur aut ut fugit similique', 'completed': True}, {'userId': 10, 'id': 197, 'title': 'dignissimos quo nobis earum saepe', 'completed': True}, {'userId': 10, 'id': 198, 'title': 'quis eius est sint explicabo', 'completed': True}, {'userId': 10, 'id': 199, 'title': 'numquam repellendus a magnam', 'completed': True}, {'userId': 10, 'id': 200, 'title': 'ipsam aperiam voluptates qui', 'completed': False}]\u001b[0m\u001b[32;1m\u001b[1;3m\n",
            "Invoking: `analysis_tool` with `{'query': 'count the number of todos', 'json_data': [{'userId': 1, 'id': 1, 'title': 'delectus aut autem', 'completed': False}, {'userId': 1, 'id': 2, 'title': 'quis ut nam facilis et officia qui', 'completed': False}, {'userId': 1, 'id': 3, 'title': 'fugiat veniam minus', 'completed': False}, {'userId': 1, 'id': 4, 'title': 'et porro tempora', 'completed': True}, {'userId': 1, 'id': 5, 'title': 'laboriosam mollitia et enim quasi adipisci quia provident illum', 'completed': False}, {'userId': 1, 'id': 6, 'title': 'qui ullam ratione quibusdam voluptatem quia omnis', 'completed': False}, {'userId': 1, 'id': 7, 'title': 'illo expedita consequatur quia in', 'completed': False}, {'userId': 1, 'id': 8, 'title': 'quo adipisci enim quam ut ab', 'completed': True}, {'userId': 1, 'id': 9, 'title': 'molestiae perspiciatis ipsa', 'completed': False}, {'userId': 1, 'id': 10, 'title': 'illo est ratione doloremque quia maiores aut', 'completed': True}, {'userId': 1, 'id': 11, 'title': 'vero rerum temporibus dolor', 'completed': True}, {'userId': 1, 'id': 12, 'title': 'ipsa repellendus fugit nisi', 'completed': True}, {'userId': 1, 'id': 13, 'title': 'et doloremque nulla', 'completed': False}, {'userId': 1, 'id': 14, 'title': 'repellendus sunt dolores architecto voluptatum', 'completed': True}, {'userId': 1, 'id': 15, 'title': 'ab voluptatum amet voluptas', 'completed': True}, {'userId': 1, 'id': 16, 'title': 'accusamus eos facilis sint et aut voluptatem', 'completed': True}, {'userId': 1, 'id': 17, 'title': 'quo laboriosam deleniti aut qui', 'completed': True}, {'userId': 1, 'id': 18, 'title': 'dolorum est consequatur ea mollitia in culpa', 'completed': False}, {'userId': 1, 'id': 19, 'title': 'molestiae ipsa aut voluptatibus pariatur dolor nihil', 'completed': True}, {'userId': 1, 'id': 20, 'title': 'ullam nobis libero sapiente ad optio sint', 'completed': True}, {'userId': 2, 'id': 21, 'title': 'suscipit repellat esse quibusdam voluptatem incidunt', 'completed': False}, {'userId': 2, 'id': 22, 'title': 'distinctio vitae autem nihil ut molestias quo', 'completed': True}, {'userId': 2, 'id': 23, 'title': 'et itaque necessitatibus maxime molestiae qui quas velit', 'completed': False}, {'userId': 2, 'id': 24, 'title': 'adipisci non ad dicta qui amet quaerat doloribus ea', 'completed': False}, {'userId': 2, 'id': 25, 'title': 'voluptas quo tenetur perspiciatis explicabo natus', 'completed': True}, {'userId': 2, 'id': 26, 'title': 'aliquam aut quasi', 'completed': True}, {'userId': 2, 'id': 27, 'title': 'veritatis pariatur delectus', 'completed': True}, {'userId': 2, 'id': 28, 'title': 'nesciunt totam sit blanditiis sit', 'completed': False}, {'userId': 2, 'id': 29, 'title': 'laborum aut in quam', 'completed': False}, {'userId': 2, 'id': 30, 'title': 'nemo perspiciatis repellat ut dolor libero commodi blanditiis omnis', 'completed': True}, {'userId': 2, 'id': 31, 'title': 'repudiandae totam in est sint facere fuga', 'completed': False}, {'userId': 2, 'id': 32, 'title': 'earum doloribus ea doloremque quis', 'completed': False}, {'userId': 2, 'id': 33, 'title': 'sint sit aut vero', 'completed': False}, {'userId': 2, 'id': 34, 'title': 'porro aut necessitatibus eaque distinctio', 'completed': False}, {'userId': 2, 'id': 35, 'title': 'repellendus veritatis molestias dicta incidunt', 'completed': True}, {'userId': 2, 'id': 36, 'title': 'excepturi deleniti adipisci voluptatem et neque optio illum ad', 'completed': True}, {'userId': 2, 'id': 37, 'title': 'sunt cum tempora', 'completed': False}, {'userId': 2, 'id': 38, 'title': 'totam quia non', 'completed': False}, {'userId': 2, 'id': 39, 'title': 'doloremque quibusdam asperiores libero corrupti illum qui omnis', 'completed': False}, {'userId': 2, 'id': 40, 'title': 'totam atque quo nesciunt', 'completed': True}, {'userId': 3, 'id': 41, 'title': 'aliquid amet impedit consequatur aspernatur placeat eaque fugiat suscipit', 'completed': False}, {'userId': 3, 'id': 42, 'title': 'rerum perferendis error quia ut eveniet', 'completed': False}, {'userId': 3, 'id': 43, 'title': 'tempore ut sint quis recusandae', 'completed': True}, {'userId': 3, 'id': 44, 'title': 'cum debitis quis accusamus doloremque ipsa natus sapiente omnis', 'completed': True}, {'userId': 3, 'id': 45, 'title': 'velit soluta adipisci molestias reiciendis harum', 'completed': False}, {'userId': 3, 'id': 46, 'title': 'vel voluptatem repellat nihil placeat corporis', 'completed': False}, {'userId': 3, 'id': 47, 'title': 'nam qui rerum fugiat accusamus', 'completed': False}, {'userId': 3, 'id': 48, 'title': 'sit reprehenderit omnis quia', 'completed': False}, {'userId': 3, 'id': 49, 'title': 'ut necessitatibus aut maiores debitis officia blanditiis velit et', 'completed': False}, {'userId': 3, 'id': 50, 'title': 'cupiditate necessitatibus ullam aut quis dolor voluptate', 'completed': True}, {'userId': 3, 'id': 51, 'title': 'distinctio exercitationem ab doloribus', 'completed': False}, {'userId': 3, 'id': 52, 'title': 'nesciunt dolorum quis recusandae ad pariatur ratione', 'completed': False}, {'userId': 3, 'id': 53, 'title': 'qui labore est occaecati recusandae aliquid quam', 'completed': False}, {'userId': 3, 'id': 54, 'title': 'quis et est ut voluptate quam dolor', 'completed': True}, {'userId': 3, 'id': 55, 'title': 'voluptatum omnis minima qui occaecati provident nulla voluptatem ratione', 'completed': True}, {'userId': 3, 'id': 56, 'title': 'deleniti ea temporibus enim', 'completed': True}, {'userId': 3, 'id': 57, 'title': 'pariatur et magnam ea doloribus similique voluptatem rerum quia', 'completed': False}, {'userId': 3, 'id': 58, 'title': 'est dicta totam qui explicabo doloribus qui dignissimos', 'completed': False}, {'userId': 3, 'id': 59, 'title': 'perspiciatis velit id laborum placeat iusto et aliquam odio', 'completed': False}, {'userId': 3, 'id': 60, 'title': 'et sequi qui architecto ut adipisci', 'completed': True}, {'userId': 4, 'id': 61, 'title': 'odit optio omnis qui sunt', 'completed': True}, {'userId': 4, 'id': 62, 'title': 'et placeat et tempore aspernatur sint numquam', 'completed': False}, {'userId': 4, 'id': 63, 'title': 'doloremque aut dolores quidem fuga qui nulla', 'completed': True}, {'userId': 4, 'id': 64, 'title': 'voluptas consequatur qui ut quia magnam nemo esse', 'completed': False}, {'userId': 4, 'id': 65, 'title': 'fugiat pariatur ratione ut asperiores necessitatibus magni', 'completed': False}, {'userId': 4, 'id': 66, 'title': 'rerum eum molestias autem voluptatum sit optio', 'completed': False}, {'userId': 4, 'id': 67, 'title': 'quia voluptatibus voluptatem quos similique maiores repellat', 'completed': False}, {'userId': 4, 'id': 68, 'title': 'aut id perspiciatis voluptatem iusto', 'completed': False}, {'userId': 4, 'id': 69, 'title': 'doloribus sint dolorum ab adipisci itaque dignissimos aliquam suscipit', 'completed': False}, {'userId': 4, 'id': 70, 'title': 'ut sequi accusantium et mollitia delectus sunt', 'completed': False}, {'userId': 4, 'id': 71, 'title': 'aut velit saepe ullam', 'completed': False}, {'userId': 4, 'id': 72, 'title': 'praesentium facilis facere quis harum voluptatibus voluptatem eum', 'completed': False}, {'userId': 4, 'id': 73, 'title': 'sint amet quia totam corporis qui exercitationem commodi', 'completed': True}, {'userId': 4, 'id': 74, 'title': 'expedita tempore nobis eveniet laborum maiores', 'completed': False}, {'userId': 4, 'id': 75, 'title': 'occaecati adipisci est possimus totam', 'completed': False}, {'userId': 4, 'id': 76, 'title': 'sequi dolorem sed', 'completed': True}, {'userId': 4, 'id': 77, 'title': 'maiores aut nesciunt delectus exercitationem vel assumenda eligendi at', 'completed': False}, {'userId': 4, 'id': 78, 'title': 'reiciendis est magnam amet nemo iste recusandae impedit quaerat', 'completed': False}, {'userId': 4, 'id': 79, 'title': 'eum ipsa maxime ut', 'completed': True}, {'userId': 4, 'id': 80, 'title': 'tempore molestias dolores rerum sequi voluptates ipsum consequatur', 'completed': True}, {'userId': 5, 'id': 81, 'title': 'suscipit qui totam', 'completed': True}, {'userId': 5, 'id': 82, 'title': 'voluptates eum voluptas et dicta', 'completed': False}, {'userId': 5, 'id': 83, 'title': 'quidem at rerum quis ex aut sit quam', 'completed': True}, {'userId': 5, 'id': 84, 'title': 'sunt veritatis ut voluptate', 'completed': False}, {'userId': 5, 'id': 85, 'title': 'et quia ad iste a', 'completed': True}, {'userId': 5, 'id': 86, 'title': 'incidunt ut saepe autem', 'completed': True}, {'userId': 5, 'id': 87, 'title': 'laudantium quae eligendi consequatur quia et vero autem', 'completed': True}, {'userId': 5, 'id': 88, 'title': 'vitae aut excepturi laboriosam sint aliquam et et accusantium', 'completed': False}, {'userId': 5, 'id': 89, 'title': 'sequi ut omnis et', 'completed': True}, {'userId': 5, 'id': 90, 'title': 'molestiae nisi accusantium tenetur dolorem et', 'completed': True}, {'userId': 5, 'id': 91, 'title': 'nulla quis consequatur saepe qui id expedita', 'completed': True}, {'userId': 5, 'id': 92, 'title': 'in omnis laboriosam', 'completed': True}, {'userId': 5, 'id': 93, 'title': 'odio iure consequatur molestiae quibusdam necessitatibus quia sint', 'completed': True}, {'userId': 5, 'id': 94, 'title': 'facilis modi saepe mollitia', 'completed': False}, {'userId': 5, 'id': 95, 'title': 'vel nihil et molestiae iusto assumenda nemo quo ut', 'completed': True}, {'userId': 5, 'id': 96, 'title': 'nobis suscipit ducimus enim asperiores voluptas', 'completed': False}, {'userId': 5, 'id': 97, 'title': 'dolorum laboriosam eos qui iure aliquam', 'completed': False}, {'userId': 5, 'id': 98, 'title': 'debitis accusantium ut quo facilis nihil quis sapiente necessitatibus', 'completed': True}, {'userId': 5, 'id': 99, 'title': 'neque voluptates ratione', 'completed': False}, {'userId': 5, 'id': 100, 'title': 'excepturi a et neque qui expedita vel voluptate', 'completed': False}, {'userId': 6, 'id': 101, 'title': 'explicabo enim cumque porro aperiam occaecati minima', 'completed': False}, {'userId': 6, 'id': 102, 'title': 'sed ab consequatur', 'completed': False}, {'userId': 6, 'id': 103, 'title': 'non sunt delectus illo nulla tenetur enim omnis', 'completed': False}, {'userId': 6, 'id': 104, 'title': 'excepturi non laudantium quo', 'completed': False}, {'userId': 6, 'id': 105, 'title': 'totam quia dolorem et illum repellat voluptas optio', 'completed': True}, {'userId': 6, 'id': 106, 'title': 'ad illo quis voluptatem temporibus', 'completed': True}, {'userId': 6, 'id': 107, 'title': 'praesentium facilis omnis laudantium fugit ad iusto nihil nesciunt', 'completed': False}, {'userId': 6, 'id': 108, 'title': 'a eos eaque nihil et exercitationem incidunt delectus', 'completed': True}, {'userId': 6, 'id': 109, 'title': 'autem temporibus harum quisquam in culpa', 'completed': True}, {'userId': 6, 'id': 110, 'title': 'aut aut ea corporis', 'completed': True}, {'userId': 6, 'id': 111, 'title': 'magni accusantium labore et id quis provident', 'completed': False}, {'userId': 6, 'id': 112, 'title': 'consectetur impedit quisquam qui deserunt non rerum consequuntur eius', 'completed': False}, {'userId': 6, 'id': 113, 'title': 'quia atque aliquam sunt impedit voluptatum rerum assumenda nisi', 'completed': False}, {'userId': 6, 'id': 114, 'title': 'cupiditate quos possimus corporis quisquam exercitationem beatae', 'completed': False}, {'userId': 6, 'id': 115, 'title': 'sed et ea eum', 'completed': False}, {'userId': 6, 'id': 116, 'title': 'ipsa dolores vel facilis ut', 'completed': True}, {'userId': 6, 'id': 117, 'title': 'sequi quae est et qui qui eveniet asperiores', 'completed': False}, {'userId': 6, 'id': 118, 'title': 'quia modi consequatur vero fugiat', 'completed': False}, {'userId': 6, 'id': 119, 'title': 'corporis ducimus ea perspiciatis iste', 'completed': False}, {'userId': 6, 'id': 120, 'title': 'dolorem laboriosam vel voluptas et aliquam quasi', 'completed': False}, {'userId': 7, 'id': 121, 'title': 'inventore aut nihil minima laudantium hic qui omnis', 'completed': True}, {'userId': 7, 'id': 122, 'title': 'provident aut nobis culpa', 'completed': True}, {'userId': 7, 'id': 123, 'title': 'esse et quis iste est earum aut impedit', 'completed': False}, {'userId': 7, 'id': 124, 'title': 'qui consectetur id', 'completed': False}, {'userId': 7, 'id': 125, 'title': 'aut quasi autem iste tempore illum possimus', 'completed': False}, {'userId': 7, 'id': 126, 'title': 'ut asperiores perspiciatis veniam ipsum rerum saepe', 'completed': True}, {'userId': 7, 'id': 127, 'title': 'voluptatem libero consectetur rerum ut', 'completed': True}, {'userId': 7, 'id': 128, 'title': 'eius omnis est qui voluptatem autem', 'completed': False}, {'userId': 7, 'id': 129, 'title': 'rerum culpa quis harum', 'completed': False}, {'userId': 7, 'id': 130, 'title': 'nulla aliquid eveniet harum laborum libero alias ut unde', 'completed': True}, {'userId': 7, 'id': 131, 'title': 'qui ea incidunt quis', 'completed': False}, {'userId': 7, 'id': 132, 'title': 'qui molestiae voluptatibus velit iure harum quisquam', 'completed': True}, {'userId': 7, 'id': 133, 'title': 'et labore eos enim rerum consequatur sunt', 'completed': True}, {'userId': 7, 'id': 134, 'title': 'molestiae doloribus et laborum quod ea', 'completed': False}, {'userId': 7, 'id': 135, 'title': 'facere ipsa nam eum voluptates reiciendis vero qui', 'completed': False}, {'userId': 7, 'id': 136, 'title': 'asperiores illo tempora fuga sed ut quasi adipisci', 'completed': False}, {'userId': 7, 'id': 137, 'title': 'qui sit non', 'completed': False}, {'userId': 7, 'id': 138, 'title': 'placeat minima consequatur rem qui ut', 'completed': True}, {'userId': 7, 'id': 139, 'title': 'consequatur doloribus id possimus voluptas a voluptatem', 'completed': False}, {'userId': 7, 'id': 140, 'title': 'aut consectetur in blanditiis deserunt quia sed laboriosam', 'completed': True}, {'userId': 8, 'id': 141, 'title': 'explicabo consectetur debitis voluptates quas quae culpa rerum non', 'completed': True}, {'userId': 8, 'id': 142, 'title': 'maiores accusantium architecto necessitatibus reiciendis ea aut', 'completed': True}, {'userId': 8, 'id': 143, 'title': 'eum non recusandae cupiditate animi', 'completed': False}, {'userId': 8, 'id': 144, 'title': 'ut eum exercitationem sint', 'completed': False}, {'userId': 8, 'id': 145, 'title': 'beatae qui ullam incidunt voluptatem non nisi aliquam', 'completed': False}, {'userId': 8, 'id': 146, 'title': 'molestiae suscipit ratione nihil odio libero impedit vero totam', 'completed': True}, {'userId': 8, 'id': 147, 'title': 'eum itaque quod reprehenderit et facilis dolor autem ut', 'completed': True}, {'userId': 8, 'id': 148, 'title': 'esse quas et quo quasi exercitationem', 'completed': False}, {'userId': 8, 'id': 149, 'title': 'animi voluptas quod perferendis est', 'completed': False}, {'userId': 8, 'id': 150, 'title': 'eos amet tempore laudantium fugit a', 'completed': False}, {'userId': 8, 'id': 151, 'title': 'accusamus adipisci dicta qui quo ea explicabo sed vero', 'completed': True}, {'userId': 8, 'id': 152, 'title': 'odit eligendi recusandae doloremque cumque non', 'completed': False}, {'userId': 8, 'id': 153, 'title': 'ea aperiam consequatur qui repellat eos', 'completed': False}, {'userId': 8, 'id': 154, 'title': 'rerum non ex sapiente', 'completed': True}, {'userId': 8, 'id': 155, 'title': 'voluptatem nobis consequatur et assumenda magnam', 'completed': True}, {'userId': 8, 'id': 156, 'title': 'nam quia quia nulla repellat assumenda quibusdam sit nobis', 'completed': True}, {'userId': 8, 'id': 157, 'title': 'dolorem veniam quisquam deserunt repellendus', 'completed': True}, {'userId': 8, 'id': 158, 'title': 'debitis vitae delectus et harum accusamus aut deleniti a', 'completed': True}, {'userId': 8, 'id': 159, 'title': 'debitis adipisci quibusdam aliquam sed dolore ea praesentium nobis', 'completed': True}, {'userId': 8, 'id': 160, 'title': 'et praesentium aliquam est', 'completed': False}, {'userId': 9, 'id': 161, 'title': 'ex hic consequuntur earum omnis alias ut occaecati culpa', 'completed': True}, {'userId': 9, 'id': 162, 'title': 'omnis laboriosam molestias animi sunt dolore', 'completed': True}, {'userId': 9, 'id': 163, 'title': 'natus corrupti maxime laudantium et voluptatem laboriosam odit', 'completed': False}, {'userId': 9, 'id': 164, 'title': 'reprehenderit quos aut aut consequatur est sed', 'completed': False}, {'userId': 9, 'id': 165, 'title': 'fugiat perferendis sed aut quidem', 'completed': False}, {'userId': 9, 'id': 166, 'title': 'quos quo possimus suscipit minima ut', 'completed': False}, {'userId': 9, 'id': 167, 'title': 'et quis minus quo a asperiores molestiae', 'completed': False}, {'userId': 9, 'id': 168, 'title': 'recusandae quia qui sunt libero', 'completed': False}, {'userId': 9, 'id': 169, 'title': 'ea odio perferendis officiis', 'completed': True}, {'userId': 9, 'id': 170, 'title': 'quisquam aliquam quia doloribus aut', 'completed': False}, {'userId': 9, 'id': 171, 'title': 'fugiat aut voluptatibus corrupti deleniti velit iste odio', 'completed': True}, {'userId': 9, 'id': 172, 'title': 'et provident amet rerum consectetur et voluptatum', 'completed': False}, {'userId': 9, 'id': 173, 'title': 'harum ad aperiam quis', 'completed': False}, {'userId': 9, 'id': 174, 'title': 'similique aut quo', 'completed': False}, {'userId': 9, 'id': 175, 'title': 'laudantium eius officia perferendis provident perspiciatis asperiores', 'completed': True}, {'userId': 9, 'id': 176, 'title': 'magni soluta corrupti ut maiores rem quidem', 'completed': False}, {'userId': 9, 'id': 177, 'title': 'et placeat temporibus voluptas est tempora quos quibusdam', 'completed': False}, {'userId': 9, 'id': 178, 'title': 'nesciunt itaque commodi tempore', 'completed': True}, {'userId': 9, 'id': 179, 'title': 'omnis consequuntur cupiditate impedit itaque ipsam quo', 'completed': True}, {'userId': 9, 'id': 180, 'title': 'debitis nisi et dolorem repellat et', 'completed': True}, {'userId': 10, 'id': 181, 'title': 'ut cupiditate sequi aliquam fuga maiores', 'completed': False}, {'userId': 10, 'id': 182, 'title': 'inventore saepe cumque et aut illum enim', 'completed': True}, {'userId': 10, 'id': 183, 'title': 'omnis nulla eum aliquam distinctio', 'completed': True}, {'userId': 10, 'id': 184, 'title': 'molestias modi perferendis perspiciatis', 'completed': False}, {'userId': 10, 'id': 185, 'title': 'voluptates dignissimos sed doloribus animi quaerat aut', 'completed': False}, {'userId': 10, 'id': 186, 'title': 'explicabo odio est et', 'completed': False}, {'userId': 10, 'id': 187, 'title': 'consequuntur animi possimus', 'completed': False}, {'userId': 10, 'id': 188, 'title': 'vel non beatae est', 'completed': True}, {'userId': 10, 'id': 189, 'title': 'culpa eius et voluptatem et', 'completed': True}, {'userId': 10, 'id': 190, 'title': 'accusamus sint iusto et voluptatem exercitationem', 'completed': True}, {'userId': 10, 'id': 191, 'title': 'temporibus atque distinctio omnis eius impedit tempore molestias pariatur', 'completed': True}, {'userId': 10, 'id': 192, 'title': 'ut quas possimus exercitationem sint voluptates', 'completed': False}, {'userId': 10, 'id': 193, 'title': 'rerum debitis voluptatem qui eveniet tempora distinctio a', 'completed': True}, {'userId': 10, 'id': 194, 'title': 'sed ut vero sit molestiae', 'completed': False}, {'userId': 10, 'id': 195, 'title': 'rerum ex veniam mollitia voluptatibus pariatur', 'completed': True}, {'userId': 10, 'id': 196, 'title': 'consequuntur aut ut fugit similique', 'completed': True}, {'userId': 10, 'id': 197, 'title': 'dignissimos quo nobis earum saepe', 'completed': True}, {'userId': 10, 'id': 198, 'title': 'quis eius est sint explicabo', 'completed': True}, {'userId': 10, 'id': 199, 'title': 'numquam repellendus a magnam', 'completed': True}, {'userId': 10, 'id': 200, 'title': 'ipsam aperiam voluptates qui', 'completed': False}]}`\n",
            "\n",
            "\n",
            "\u001b[0m\n",
            "\n",
            "\u001b[1m> Entering new AgentExecutor chain...\u001b[0m\n",
            "\u001b[32;1m\u001b[1;3m\n",
            "Invoking: `python_repl_ast` with `{'query': 'len(df)'}`\n",
            "\n",
            "\n",
            "\u001b[0m\u001b[36;1m\u001b[1;3m200\u001b[0m\u001b[32;1m\u001b[1;3mThe number of todos is 200.\u001b[0m\n",
            "\n",
            "\u001b[1m> Finished chain.\u001b[0m\n",
            "\u001b[36;1m\u001b[1;3m{'input': 'count the number of todos', 'output': 'The number of todos is 200.'}\u001b[0m\u001b[32;1m\u001b[1;3mYou have a total of 200 todos.\u001b[0m\n",
            "\n",
            "\u001b[1m> Finished chain.\u001b[0m\n"
          ]
        },
        {
          "output_type": "execute_result",
          "data": {
            "text/plain": [
              "{'input': 'how many todos do I have?',\n",
              " 'output': 'You have a total of 200 todos.'}"
            ]
          },
          "metadata": {},
          "execution_count": 48
        }
      ]
    },
    {
      "cell_type": "code",
      "source": [
        "agent_executor.invoke({\"input\": \"what percent of my todos are completed?\"})"
      ],
      "metadata": {
        "colab": {
          "base_uri": "https://localhost:8080/"
        },
        "id": "wwz__b2L33Qu",
        "outputId": "1a9cb06a-c1fb-416b-df53-bb4cf8bc22ad"
      },
      "execution_count": null,
      "outputs": [
        {
          "output_type": "stream",
          "name": "stdout",
          "text": [
            "\n",
            "\n",
            "\u001b[1m> Entering new AgentExecutor chain...\u001b[0m\n",
            "\u001b[32;1m\u001b[1;3m\n",
            "Invoking: `get_todos` with `{}`\n",
            "\n",
            "\n",
            "\u001b[0m\u001b[33;1m\u001b[1;3m[{'userId': 1, 'id': 1, 'title': 'delectus aut autem', 'completed': False}, {'userId': 1, 'id': 2, 'title': 'quis ut nam facilis et officia qui', 'completed': False}, {'userId': 1, 'id': 3, 'title': 'fugiat veniam minus', 'completed': False}, {'userId': 1, 'id': 4, 'title': 'et porro tempora', 'completed': True}, {'userId': 1, 'id': 5, 'title': 'laboriosam mollitia et enim quasi adipisci quia provident illum', 'completed': False}, {'userId': 1, 'id': 6, 'title': 'qui ullam ratione quibusdam voluptatem quia omnis', 'completed': False}, {'userId': 1, 'id': 7, 'title': 'illo expedita consequatur quia in', 'completed': False}, {'userId': 1, 'id': 8, 'title': 'quo adipisci enim quam ut ab', 'completed': True}, {'userId': 1, 'id': 9, 'title': 'molestiae perspiciatis ipsa', 'completed': False}, {'userId': 1, 'id': 10, 'title': 'illo est ratione doloremque quia maiores aut', 'completed': True}, {'userId': 1, 'id': 11, 'title': 'vero rerum temporibus dolor', 'completed': True}, {'userId': 1, 'id': 12, 'title': 'ipsa repellendus fugit nisi', 'completed': True}, {'userId': 1, 'id': 13, 'title': 'et doloremque nulla', 'completed': False}, {'userId': 1, 'id': 14, 'title': 'repellendus sunt dolores architecto voluptatum', 'completed': True}, {'userId': 1, 'id': 15, 'title': 'ab voluptatum amet voluptas', 'completed': True}, {'userId': 1, 'id': 16, 'title': 'accusamus eos facilis sint et aut voluptatem', 'completed': True}, {'userId': 1, 'id': 17, 'title': 'quo laboriosam deleniti aut qui', 'completed': True}, {'userId': 1, 'id': 18, 'title': 'dolorum est consequatur ea mollitia in culpa', 'completed': False}, {'userId': 1, 'id': 19, 'title': 'molestiae ipsa aut voluptatibus pariatur dolor nihil', 'completed': True}, {'userId': 1, 'id': 20, 'title': 'ullam nobis libero sapiente ad optio sint', 'completed': True}, {'userId': 2, 'id': 21, 'title': 'suscipit repellat esse quibusdam voluptatem incidunt', 'completed': False}, {'userId': 2, 'id': 22, 'title': 'distinctio vitae autem nihil ut molestias quo', 'completed': True}, {'userId': 2, 'id': 23, 'title': 'et itaque necessitatibus maxime molestiae qui quas velit', 'completed': False}, {'userId': 2, 'id': 24, 'title': 'adipisci non ad dicta qui amet quaerat doloribus ea', 'completed': False}, {'userId': 2, 'id': 25, 'title': 'voluptas quo tenetur perspiciatis explicabo natus', 'completed': True}, {'userId': 2, 'id': 26, 'title': 'aliquam aut quasi', 'completed': True}, {'userId': 2, 'id': 27, 'title': 'veritatis pariatur delectus', 'completed': True}, {'userId': 2, 'id': 28, 'title': 'nesciunt totam sit blanditiis sit', 'completed': False}, {'userId': 2, 'id': 29, 'title': 'laborum aut in quam', 'completed': False}, {'userId': 2, 'id': 30, 'title': 'nemo perspiciatis repellat ut dolor libero commodi blanditiis omnis', 'completed': True}, {'userId': 2, 'id': 31, 'title': 'repudiandae totam in est sint facere fuga', 'completed': False}, {'userId': 2, 'id': 32, 'title': 'earum doloribus ea doloremque quis', 'completed': False}, {'userId': 2, 'id': 33, 'title': 'sint sit aut vero', 'completed': False}, {'userId': 2, 'id': 34, 'title': 'porro aut necessitatibus eaque distinctio', 'completed': False}, {'userId': 2, 'id': 35, 'title': 'repellendus veritatis molestias dicta incidunt', 'completed': True}, {'userId': 2, 'id': 36, 'title': 'excepturi deleniti adipisci voluptatem et neque optio illum ad', 'completed': True}, {'userId': 2, 'id': 37, 'title': 'sunt cum tempora', 'completed': False}, {'userId': 2, 'id': 38, 'title': 'totam quia non', 'completed': False}, {'userId': 2, 'id': 39, 'title': 'doloremque quibusdam asperiores libero corrupti illum qui omnis', 'completed': False}, {'userId': 2, 'id': 40, 'title': 'totam atque quo nesciunt', 'completed': True}, {'userId': 3, 'id': 41, 'title': 'aliquid amet impedit consequatur aspernatur placeat eaque fugiat suscipit', 'completed': False}, {'userId': 3, 'id': 42, 'title': 'rerum perferendis error quia ut eveniet', 'completed': False}, {'userId': 3, 'id': 43, 'title': 'tempore ut sint quis recusandae', 'completed': True}, {'userId': 3, 'id': 44, 'title': 'cum debitis quis accusamus doloremque ipsa natus sapiente omnis', 'completed': True}, {'userId': 3, 'id': 45, 'title': 'velit soluta adipisci molestias reiciendis harum', 'completed': False}, {'userId': 3, 'id': 46, 'title': 'vel voluptatem repellat nihil placeat corporis', 'completed': False}, {'userId': 3, 'id': 47, 'title': 'nam qui rerum fugiat accusamus', 'completed': False}, {'userId': 3, 'id': 48, 'title': 'sit reprehenderit omnis quia', 'completed': False}, {'userId': 3, 'id': 49, 'title': 'ut necessitatibus aut maiores debitis officia blanditiis velit et', 'completed': False}, {'userId': 3, 'id': 50, 'title': 'cupiditate necessitatibus ullam aut quis dolor voluptate', 'completed': True}, {'userId': 3, 'id': 51, 'title': 'distinctio exercitationem ab doloribus', 'completed': False}, {'userId': 3, 'id': 52, 'title': 'nesciunt dolorum quis recusandae ad pariatur ratione', 'completed': False}, {'userId': 3, 'id': 53, 'title': 'qui labore est occaecati recusandae aliquid quam', 'completed': False}, {'userId': 3, 'id': 54, 'title': 'quis et est ut voluptate quam dolor', 'completed': True}, {'userId': 3, 'id': 55, 'title': 'voluptatum omnis minima qui occaecati provident nulla voluptatem ratione', 'completed': True}, {'userId': 3, 'id': 56, 'title': 'deleniti ea temporibus enim', 'completed': True}, {'userId': 3, 'id': 57, 'title': 'pariatur et magnam ea doloribus similique voluptatem rerum quia', 'completed': False}, {'userId': 3, 'id': 58, 'title': 'est dicta totam qui explicabo doloribus qui dignissimos', 'completed': False}, {'userId': 3, 'id': 59, 'title': 'perspiciatis velit id laborum placeat iusto et aliquam odio', 'completed': False}, {'userId': 3, 'id': 60, 'title': 'et sequi qui architecto ut adipisci', 'completed': True}, {'userId': 4, 'id': 61, 'title': 'odit optio omnis qui sunt', 'completed': True}, {'userId': 4, 'id': 62, 'title': 'et placeat et tempore aspernatur sint numquam', 'completed': False}, {'userId': 4, 'id': 63, 'title': 'doloremque aut dolores quidem fuga qui nulla', 'completed': True}, {'userId': 4, 'id': 64, 'title': 'voluptas consequatur qui ut quia magnam nemo esse', 'completed': False}, {'userId': 4, 'id': 65, 'title': 'fugiat pariatur ratione ut asperiores necessitatibus magni', 'completed': False}, {'userId': 4, 'id': 66, 'title': 'rerum eum molestias autem voluptatum sit optio', 'completed': False}, {'userId': 4, 'id': 67, 'title': 'quia voluptatibus voluptatem quos similique maiores repellat', 'completed': False}, {'userId': 4, 'id': 68, 'title': 'aut id perspiciatis voluptatem iusto', 'completed': False}, {'userId': 4, 'id': 69, 'title': 'doloribus sint dolorum ab adipisci itaque dignissimos aliquam suscipit', 'completed': False}, {'userId': 4, 'id': 70, 'title': 'ut sequi accusantium et mollitia delectus sunt', 'completed': False}, {'userId': 4, 'id': 71, 'title': 'aut velit saepe ullam', 'completed': False}, {'userId': 4, 'id': 72, 'title': 'praesentium facilis facere quis harum voluptatibus voluptatem eum', 'completed': False}, {'userId': 4, 'id': 73, 'title': 'sint amet quia totam corporis qui exercitationem commodi', 'completed': True}, {'userId': 4, 'id': 74, 'title': 'expedita tempore nobis eveniet laborum maiores', 'completed': False}, {'userId': 4, 'id': 75, 'title': 'occaecati adipisci est possimus totam', 'completed': False}, {'userId': 4, 'id': 76, 'title': 'sequi dolorem sed', 'completed': True}, {'userId': 4, 'id': 77, 'title': 'maiores aut nesciunt delectus exercitationem vel assumenda eligendi at', 'completed': False}, {'userId': 4, 'id': 78, 'title': 'reiciendis est magnam amet nemo iste recusandae impedit quaerat', 'completed': False}, {'userId': 4, 'id': 79, 'title': 'eum ipsa maxime ut', 'completed': True}, {'userId': 4, 'id': 80, 'title': 'tempore molestias dolores rerum sequi voluptates ipsum consequatur', 'completed': True}, {'userId': 5, 'id': 81, 'title': 'suscipit qui totam', 'completed': True}, {'userId': 5, 'id': 82, 'title': 'voluptates eum voluptas et dicta', 'completed': False}, {'userId': 5, 'id': 83, 'title': 'quidem at rerum quis ex aut sit quam', 'completed': True}, {'userId': 5, 'id': 84, 'title': 'sunt veritatis ut voluptate', 'completed': False}, {'userId': 5, 'id': 85, 'title': 'et quia ad iste a', 'completed': True}, {'userId': 5, 'id': 86, 'title': 'incidunt ut saepe autem', 'completed': True}, {'userId': 5, 'id': 87, 'title': 'laudantium quae eligendi consequatur quia et vero autem', 'completed': True}, {'userId': 5, 'id': 88, 'title': 'vitae aut excepturi laboriosam sint aliquam et et accusantium', 'completed': False}, {'userId': 5, 'id': 89, 'title': 'sequi ut omnis et', 'completed': True}, {'userId': 5, 'id': 90, 'title': 'molestiae nisi accusantium tenetur dolorem et', 'completed': True}, {'userId': 5, 'id': 91, 'title': 'nulla quis consequatur saepe qui id expedita', 'completed': True}, {'userId': 5, 'id': 92, 'title': 'in omnis laboriosam', 'completed': True}, {'userId': 5, 'id': 93, 'title': 'odio iure consequatur molestiae quibusdam necessitatibus quia sint', 'completed': True}, {'userId': 5, 'id': 94, 'title': 'facilis modi saepe mollitia', 'completed': False}, {'userId': 5, 'id': 95, 'title': 'vel nihil et molestiae iusto assumenda nemo quo ut', 'completed': True}, {'userId': 5, 'id': 96, 'title': 'nobis suscipit ducimus enim asperiores voluptas', 'completed': False}, {'userId': 5, 'id': 97, 'title': 'dolorum laboriosam eos qui iure aliquam', 'completed': False}, {'userId': 5, 'id': 98, 'title': 'debitis accusantium ut quo facilis nihil quis sapiente necessitatibus', 'completed': True}, {'userId': 5, 'id': 99, 'title': 'neque voluptates ratione', 'completed': False}, {'userId': 5, 'id': 100, 'title': 'excepturi a et neque qui expedita vel voluptate', 'completed': False}, {'userId': 6, 'id': 101, 'title': 'explicabo enim cumque porro aperiam occaecati minima', 'completed': False}, {'userId': 6, 'id': 102, 'title': 'sed ab consequatur', 'completed': False}, {'userId': 6, 'id': 103, 'title': 'non sunt delectus illo nulla tenetur enim omnis', 'completed': False}, {'userId': 6, 'id': 104, 'title': 'excepturi non laudantium quo', 'completed': False}, {'userId': 6, 'id': 105, 'title': 'totam quia dolorem et illum repellat voluptas optio', 'completed': True}, {'userId': 6, 'id': 106, 'title': 'ad illo quis voluptatem temporibus', 'completed': True}, {'userId': 6, 'id': 107, 'title': 'praesentium facilis omnis laudantium fugit ad iusto nihil nesciunt', 'completed': False}, {'userId': 6, 'id': 108, 'title': 'a eos eaque nihil et exercitationem incidunt delectus', 'completed': True}, {'userId': 6, 'id': 109, 'title': 'autem temporibus harum quisquam in culpa', 'completed': True}, {'userId': 6, 'id': 110, 'title': 'aut aut ea corporis', 'completed': True}, {'userId': 6, 'id': 111, 'title': 'magni accusantium labore et id quis provident', 'completed': False}, {'userId': 6, 'id': 112, 'title': 'consectetur impedit quisquam qui deserunt non rerum consequuntur eius', 'completed': False}, {'userId': 6, 'id': 113, 'title': 'quia atque aliquam sunt impedit voluptatum rerum assumenda nisi', 'completed': False}, {'userId': 6, 'id': 114, 'title': 'cupiditate quos possimus corporis quisquam exercitationem beatae', 'completed': False}, {'userId': 6, 'id': 115, 'title': 'sed et ea eum', 'completed': False}, {'userId': 6, 'id': 116, 'title': 'ipsa dolores vel facilis ut', 'completed': True}, {'userId': 6, 'id': 117, 'title': 'sequi quae est et qui qui eveniet asperiores', 'completed': False}, {'userId': 6, 'id': 118, 'title': 'quia modi consequatur vero fugiat', 'completed': False}, {'userId': 6, 'id': 119, 'title': 'corporis ducimus ea perspiciatis iste', 'completed': False}, {'userId': 6, 'id': 120, 'title': 'dolorem laboriosam vel voluptas et aliquam quasi', 'completed': False}, {'userId': 7, 'id': 121, 'title': 'inventore aut nihil minima laudantium hic qui omnis', 'completed': True}, {'userId': 7, 'id': 122, 'title': 'provident aut nobis culpa', 'completed': True}, {'userId': 7, 'id': 123, 'title': 'esse et quis iste est earum aut impedit', 'completed': False}, {'userId': 7, 'id': 124, 'title': 'qui consectetur id', 'completed': False}, {'userId': 7, 'id': 125, 'title': 'aut quasi autem iste tempore illum possimus', 'completed': False}, {'userId': 7, 'id': 126, 'title': 'ut asperiores perspiciatis veniam ipsum rerum saepe', 'completed': True}, {'userId': 7, 'id': 127, 'title': 'voluptatem libero consectetur rerum ut', 'completed': True}, {'userId': 7, 'id': 128, 'title': 'eius omnis est qui voluptatem autem', 'completed': False}, {'userId': 7, 'id': 129, 'title': 'rerum culpa quis harum', 'completed': False}, {'userId': 7, 'id': 130, 'title': 'nulla aliquid eveniet harum laborum libero alias ut unde', 'completed': True}, {'userId': 7, 'id': 131, 'title': 'qui ea incidunt quis', 'completed': False}, {'userId': 7, 'id': 132, 'title': 'qui molestiae voluptatibus velit iure harum quisquam', 'completed': True}, {'userId': 7, 'id': 133, 'title': 'et labore eos enim rerum consequatur sunt', 'completed': True}, {'userId': 7, 'id': 134, 'title': 'molestiae doloribus et laborum quod ea', 'completed': False}, {'userId': 7, 'id': 135, 'title': 'facere ipsa nam eum voluptates reiciendis vero qui', 'completed': False}, {'userId': 7, 'id': 136, 'title': 'asperiores illo tempora fuga sed ut quasi adipisci', 'completed': False}, {'userId': 7, 'id': 137, 'title': 'qui sit non', 'completed': False}, {'userId': 7, 'id': 138, 'title': 'placeat minima consequatur rem qui ut', 'completed': True}, {'userId': 7, 'id': 139, 'title': 'consequatur doloribus id possimus voluptas a voluptatem', 'completed': False}, {'userId': 7, 'id': 140, 'title': 'aut consectetur in blanditiis deserunt quia sed laboriosam', 'completed': True}, {'userId': 8, 'id': 141, 'title': 'explicabo consectetur debitis voluptates quas quae culpa rerum non', 'completed': True}, {'userId': 8, 'id': 142, 'title': 'maiores accusantium architecto necessitatibus reiciendis ea aut', 'completed': True}, {'userId': 8, 'id': 143, 'title': 'eum non recusandae cupiditate animi', 'completed': False}, {'userId': 8, 'id': 144, 'title': 'ut eum exercitationem sint', 'completed': False}, {'userId': 8, 'id': 145, 'title': 'beatae qui ullam incidunt voluptatem non nisi aliquam', 'completed': False}, {'userId': 8, 'id': 146, 'title': 'molestiae suscipit ratione nihil odio libero impedit vero totam', 'completed': True}, {'userId': 8, 'id': 147, 'title': 'eum itaque quod reprehenderit et facilis dolor autem ut', 'completed': True}, {'userId': 8, 'id': 148, 'title': 'esse quas et quo quasi exercitationem', 'completed': False}, {'userId': 8, 'id': 149, 'title': 'animi voluptas quod perferendis est', 'completed': False}, {'userId': 8, 'id': 150, 'title': 'eos amet tempore laudantium fugit a', 'completed': False}, {'userId': 8, 'id': 151, 'title': 'accusamus adipisci dicta qui quo ea explicabo sed vero', 'completed': True}, {'userId': 8, 'id': 152, 'title': 'odit eligendi recusandae doloremque cumque non', 'completed': False}, {'userId': 8, 'id': 153, 'title': 'ea aperiam consequatur qui repellat eos', 'completed': False}, {'userId': 8, 'id': 154, 'title': 'rerum non ex sapiente', 'completed': True}, {'userId': 8, 'id': 155, 'title': 'voluptatem nobis consequatur et assumenda magnam', 'completed': True}, {'userId': 8, 'id': 156, 'title': 'nam quia quia nulla repellat assumenda quibusdam sit nobis', 'completed': True}, {'userId': 8, 'id': 157, 'title': 'dolorem veniam quisquam deserunt repellendus', 'completed': True}, {'userId': 8, 'id': 158, 'title': 'debitis vitae delectus et harum accusamus aut deleniti a', 'completed': True}, {'userId': 8, 'id': 159, 'title': 'debitis adipisci quibusdam aliquam sed dolore ea praesentium nobis', 'completed': True}, {'userId': 8, 'id': 160, 'title': 'et praesentium aliquam est', 'completed': False}, {'userId': 9, 'id': 161, 'title': 'ex hic consequuntur earum omnis alias ut occaecati culpa', 'completed': True}, {'userId': 9, 'id': 162, 'title': 'omnis laboriosam molestias animi sunt dolore', 'completed': True}, {'userId': 9, 'id': 163, 'title': 'natus corrupti maxime laudantium et voluptatem laboriosam odit', 'completed': False}, {'userId': 9, 'id': 164, 'title': 'reprehenderit quos aut aut consequatur est sed', 'completed': False}, {'userId': 9, 'id': 165, 'title': 'fugiat perferendis sed aut quidem', 'completed': False}, {'userId': 9, 'id': 166, 'title': 'quos quo possimus suscipit minima ut', 'completed': False}, {'userId': 9, 'id': 167, 'title': 'et quis minus quo a asperiores molestiae', 'completed': False}, {'userId': 9, 'id': 168, 'title': 'recusandae quia qui sunt libero', 'completed': False}, {'userId': 9, 'id': 169, 'title': 'ea odio perferendis officiis', 'completed': True}, {'userId': 9, 'id': 170, 'title': 'quisquam aliquam quia doloribus aut', 'completed': False}, {'userId': 9, 'id': 171, 'title': 'fugiat aut voluptatibus corrupti deleniti velit iste odio', 'completed': True}, {'userId': 9, 'id': 172, 'title': 'et provident amet rerum consectetur et voluptatum', 'completed': False}, {'userId': 9, 'id': 173, 'title': 'harum ad aperiam quis', 'completed': False}, {'userId': 9, 'id': 174, 'title': 'similique aut quo', 'completed': False}, {'userId': 9, 'id': 175, 'title': 'laudantium eius officia perferendis provident perspiciatis asperiores', 'completed': True}, {'userId': 9, 'id': 176, 'title': 'magni soluta corrupti ut maiores rem quidem', 'completed': False}, {'userId': 9, 'id': 177, 'title': 'et placeat temporibus voluptas est tempora quos quibusdam', 'completed': False}, {'userId': 9, 'id': 178, 'title': 'nesciunt itaque commodi tempore', 'completed': True}, {'userId': 9, 'id': 179, 'title': 'omnis consequuntur cupiditate impedit itaque ipsam quo', 'completed': True}, {'userId': 9, 'id': 180, 'title': 'debitis nisi et dolorem repellat et', 'completed': True}, {'userId': 10, 'id': 181, 'title': 'ut cupiditate sequi aliquam fuga maiores', 'completed': False}, {'userId': 10, 'id': 182, 'title': 'inventore saepe cumque et aut illum enim', 'completed': True}, {'userId': 10, 'id': 183, 'title': 'omnis nulla eum aliquam distinctio', 'completed': True}, {'userId': 10, 'id': 184, 'title': 'molestias modi perferendis perspiciatis', 'completed': False}, {'userId': 10, 'id': 185, 'title': 'voluptates dignissimos sed doloribus animi quaerat aut', 'completed': False}, {'userId': 10, 'id': 186, 'title': 'explicabo odio est et', 'completed': False}, {'userId': 10, 'id': 187, 'title': 'consequuntur animi possimus', 'completed': False}, {'userId': 10, 'id': 188, 'title': 'vel non beatae est', 'completed': True}, {'userId': 10, 'id': 189, 'title': 'culpa eius et voluptatem et', 'completed': True}, {'userId': 10, 'id': 190, 'title': 'accusamus sint iusto et voluptatem exercitationem', 'completed': True}, {'userId': 10, 'id': 191, 'title': 'temporibus atque distinctio omnis eius impedit tempore molestias pariatur', 'completed': True}, {'userId': 10, 'id': 192, 'title': 'ut quas possimus exercitationem sint voluptates', 'completed': False}, {'userId': 10, 'id': 193, 'title': 'rerum debitis voluptatem qui eveniet tempora distinctio a', 'completed': True}, {'userId': 10, 'id': 194, 'title': 'sed ut vero sit molestiae', 'completed': False}, {'userId': 10, 'id': 195, 'title': 'rerum ex veniam mollitia voluptatibus pariatur', 'completed': True}, {'userId': 10, 'id': 196, 'title': 'consequuntur aut ut fugit similique', 'completed': True}, {'userId': 10, 'id': 197, 'title': 'dignissimos quo nobis earum saepe', 'completed': True}, {'userId': 10, 'id': 198, 'title': 'quis eius est sint explicabo', 'completed': True}, {'userId': 10, 'id': 199, 'title': 'numquam repellendus a magnam', 'completed': True}, {'userId': 10, 'id': 200, 'title': 'ipsam aperiam voluptates qui', 'completed': False}]\u001b[0m\u001b[32;1m\u001b[1;3m\n",
            "Invoking: `analysis_tool` with `{'query': 'calculate the percentage of completed todos', 'json_data': [{'userId': 1, 'id': 1, 'title': 'delectus aut autem', 'completed': False}, {'userId': 1, 'id': 2, 'title': 'quis ut nam facilis et officia qui', 'completed': False}, {'userId': 1, 'id': 3, 'title': 'fugiat veniam minus', 'completed': False}, {'userId': 1, 'id': 4, 'title': 'et porro tempora', 'completed': True}, {'userId': 1, 'id': 5, 'title': 'laboriosam mollitia et enim quasi adipisci quia provident illum', 'completed': False}, {'userId': 1, 'id': 6, 'title': 'qui ullam ratione quibusdam voluptatem quia omnis', 'completed': False}, {'userId': 1, 'id': 7, 'title': 'illo expedita consequatur quia in', 'completed': False}, {'userId': 1, 'id': 8, 'title': 'quo adipisci enim quam ut ab', 'completed': True}, {'userId': 1, 'id': 9, 'title': 'molestiae perspiciatis ipsa', 'completed': False}, {'userId': 1, 'id': 10, 'title': 'illo est ratione doloremque quia maiores aut', 'completed': True}, {'userId': 1, 'id': 11, 'title': 'vero rerum temporibus dolor', 'completed': True}, {'userId': 1, 'id': 12, 'title': 'ipsa repellendus fugit nisi', 'completed': True}, {'userId': 1, 'id': 13, 'title': 'et doloremque nulla', 'completed': False}, {'userId': 1, 'id': 14, 'title': 'repellendus sunt dolores architecto voluptatum', 'completed': True}, {'userId': 1, 'id': 15, 'title': 'ab voluptatum amet voluptas', 'completed': True}, {'userId': 1, 'id': 16, 'title': 'accusamus eos facilis sint et aut voluptatem', 'completed': True}, {'userId': 1, 'id': 17, 'title': 'quo laboriosam deleniti aut qui', 'completed': True}, {'userId': 1, 'id': 18, 'title': 'dolorum est consequatur ea mollitia in culpa', 'completed': False}, {'userId': 1, 'id': 19, 'title': 'molestiae ipsa aut voluptatibus pariatur dolor nihil', 'completed': True}, {'userId': 1, 'id': 20, 'title': 'ullam nobis libero sapiente ad optio sint', 'completed': True}, {'userId': 2, 'id': 21, 'title': 'suscipit repellat esse quibusdam voluptatem incidunt', 'completed': False}, {'userId': 2, 'id': 22, 'title': 'distinctio vitae autem nihil ut molestias quo', 'completed': True}, {'userId': 2, 'id': 23, 'title': 'et itaque necessitatibus maxime molestiae qui quas velit', 'completed': False}, {'userId': 2, 'id': 24, 'title': 'adipisci non ad dicta qui amet quaerat doloribus ea', 'completed': False}, {'userId': 2, 'id': 25, 'title': 'voluptas quo tenetur perspiciatis explicabo natus', 'completed': True}, {'userId': 2, 'id': 26, 'title': 'aliquam aut quasi', 'completed': True}, {'userId': 2, 'id': 27, 'title': 'veritatis pariatur delectus', 'completed': True}, {'userId': 2, 'id': 28, 'title': 'nesciunt totam sit blanditiis sit', 'completed': False}, {'userId': 2, 'id': 29, 'title': 'laborum aut in quam', 'completed': False}, {'userId': 2, 'id': 30, 'title': 'nemo perspiciatis repellat ut dolor libero commodi blanditiis omnis', 'completed': True}, {'userId': 2, 'id': 31, 'title': 'repudiandae totam in est sint facere fuga', 'completed': False}, {'userId': 2, 'id': 32, 'title': 'earum doloribus ea doloremque quis', 'completed': False}, {'userId': 2, 'id': 33, 'title': 'sint sit aut vero', 'completed': False}, {'userId': 2, 'id': 34, 'title': 'porro aut necessitatibus eaque distinctio', 'completed': False}, {'userId': 2, 'id': 35, 'title': 'repellendus veritatis molestias dicta incidunt', 'completed': True}, {'userId': 2, 'id': 36, 'title': 'excepturi deleniti adipisci voluptatem et neque optio illum ad', 'completed': True}, {'userId': 2, 'id': 37, 'title': 'sunt cum tempora', 'completed': False}, {'userId': 2, 'id': 38, 'title': 'totam quia non', 'completed': False}, {'userId': 2, 'id': 39, 'title': 'doloremque quibusdam asperiores libero corrupti illum qui omnis', 'completed': False}, {'userId': 2, 'id': 40, 'title': 'totam atque quo nesciunt', 'completed': True}, {'userId': 3, 'id': 41, 'title': 'aliquid amet impedit consequatur aspernatur placeat eaque fugiat suscipit', 'completed': False}, {'userId': 3, 'id': 42, 'title': 'rerum perferendis error quia ut eveniet', 'completed': False}, {'userId': 3, 'id': 43, 'title': 'tempore ut sint quis recusandae', 'completed': True}, {'userId': 3, 'id': 44, 'title': 'cum debitis quis accusamus doloremque ipsa natus sapiente omnis', 'completed': True}, {'userId': 3, 'id': 45, 'title': 'velit soluta adipisci molestias reiciendis harum', 'completed': False}, {'userId': 3, 'id': 46, 'title': 'vel voluptatem repellat nihil placeat corporis', 'completed': False}, {'userId': 3, 'id': 47, 'title': 'nam qui rerum fugiat accusamus', 'completed': False}, {'userId': 3, 'id': 48, 'title': 'sit reprehenderit omnis quia', 'completed': False}, {'userId': 3, 'id': 49, 'title': 'ut necessitatibus aut maiores debitis officia blanditiis velit et', 'completed': False}, {'userId': 3, 'id': 50, 'title': 'cupiditate necessitatibus ullam aut quis dolor voluptate', 'completed': True}, {'userId': 3, 'id': 51, 'title': 'distinctio exercitationem ab doloribus', 'completed': False}, {'userId': 3, 'id': 52, 'title': 'nesciunt dolorum quis recusandae ad pariatur ratione', 'completed': False}, {'userId': 3, 'id': 53, 'title': 'qui labore est occaecati recusandae aliquid quam', 'completed': False}, {'userId': 3, 'id': 54, 'title': 'quis et est ut voluptate quam dolor', 'completed': True}, {'userId': 3, 'id': 55, 'title': 'voluptatum omnis minima qui occaecati provident nulla voluptatem ratione', 'completed': True}, {'userId': 3, 'id': 56, 'title': 'deleniti ea temporibus enim', 'completed': True}, {'userId': 3, 'id': 57, 'title': 'pariatur et magnam ea doloribus similique voluptatem rerum quia', 'completed': False}, {'userId': 3, 'id': 58, 'title': 'est dicta totam qui explicabo doloribus qui dignissimos', 'completed': False}, {'userId': 3, 'id': 59, 'title': 'perspiciatis velit id laborum placeat iusto et aliquam odio', 'completed': False}, {'userId': 3, 'id': 60, 'title': 'et sequi qui architecto ut adipisci', 'completed': True}, {'userId': 4, 'id': 61, 'title': 'odit optio omnis qui sunt', 'completed': True}, {'userId': 4, 'id': 62, 'title': 'et placeat et tempore aspernatur sint numquam', 'completed': False}, {'userId': 4, 'id': 63, 'title': 'doloremque aut dolores quidem fuga qui nulla', 'completed': True}, {'userId': 4, 'id': 64, 'title': 'voluptas consequatur qui ut quia magnam nemo esse', 'completed': False}, {'userId': 4, 'id': 65, 'title': 'fugiat pariatur ratione ut asperiores necessitatibus magni', 'completed': False}, {'userId': 4, 'id': 66, 'title': 'rerum eum molestias autem voluptatum sit optio', 'completed': False}, {'userId': 4, 'id': 67, 'title': 'quia voluptatibus voluptatem quos similique maiores repellat', 'completed': False}, {'userId': 4, 'id': 68, 'title': 'aut id perspiciatis voluptatem iusto', 'completed': False}, {'userId': 4, 'id': 69, 'title': 'doloribus sint dolorum ab adipisci itaque dignissimos aliquam suscipit', 'completed': False}, {'userId': 4, 'id': 70, 'title': 'ut sequi accusantium et mollitia delectus sunt', 'completed': False}, {'userId': 4, 'id': 71, 'title': 'aut velit saepe ullam', 'completed': False}, {'userId': 4, 'id': 72, 'title': 'praesentium facilis facere quis harum voluptatibus voluptatem eum', 'completed': False}, {'userId': 4, 'id': 73, 'title': 'sint amet quia totam corporis qui exercitationem commodi', 'completed': True}, {'userId': 4, 'id': 74, 'title': 'expedita tempore nobis eveniet laborum maiores', 'completed': False}, {'userId': 4, 'id': 75, 'title': 'occaecati adipisci est possimus totam', 'completed': False}, {'userId': 4, 'id': 76, 'title': 'sequi dolorem sed', 'completed': True}, {'userId': 4, 'id': 77, 'title': 'maiores aut nesciunt delectus exercitationem vel assumenda eligendi at', 'completed': False}, {'userId': 4, 'id': 78, 'title': 'reiciendis est magnam amet nemo iste recusandae impedit quaerat', 'completed': False}, {'userId': 4, 'id': 79, 'title': 'eum ipsa maxime ut', 'completed': True}, {'userId': 4, 'id': 80, 'title': 'tempore molestias dolores rerum sequi voluptates ipsum consequatur', 'completed': True}, {'userId': 5, 'id': 81, 'title': 'suscipit qui totam', 'completed': True}, {'userId': 5, 'id': 82, 'title': 'voluptates eum voluptas et dicta', 'completed': False}, {'userId': 5, 'id': 83, 'title': 'quidem at rerum quis ex aut sit quam', 'completed': True}, {'userId': 5, 'id': 84, 'title': 'sunt veritatis ut voluptate', 'completed': False}, {'userId': 5, 'id': 85, 'title': 'et quia ad iste a', 'completed': True}, {'userId': 5, 'id': 86, 'title': 'incidunt ut saepe autem', 'completed': True}, {'userId': 5, 'id': 87, 'title': 'laudantium quae eligendi consequatur quia et vero autem', 'completed': True}, {'userId': 5, 'id': 88, 'title': 'vitae aut excepturi laboriosam sint aliquam et et accusantium', 'completed': False}, {'userId': 5, 'id': 89, 'title': 'sequi ut omnis et', 'completed': True}, {'userId': 5, 'id': 90, 'title': 'molestiae nisi accusantium tenetur dolorem et', 'completed': True}, {'userId': 5, 'id': 91, 'title': 'nulla quis consequatur saepe qui id expedita', 'completed': True}, {'userId': 5, 'id': 92, 'title': 'in omnis laboriosam', 'completed': True}, {'userId': 5, 'id': 93, 'title': 'odio iure consequatur molestiae quibusdam necessitatibus quia sint', 'completed': True}, {'userId': 5, 'id': 94, 'title': 'facilis modi saepe mollitia', 'completed': False}, {'userId': 5, 'id': 95, 'title': 'vel nihil et molestiae iusto assumenda nemo quo ut', 'completed': True}, {'userId': 5, 'id': 96, 'title': 'nobis suscipit ducimus enim asperiores voluptas', 'completed': False}, {'userId': 5, 'id': 97, 'title': 'dolorum laboriosam eos qui iure aliquam', 'completed': False}, {'userId': 5, 'id': 98, 'title': 'debitis accusantium ut quo facilis nihil quis sapiente necessitatibus', 'completed': True}, {'userId': 5, 'id': 99, 'title': 'neque voluptates ratione', 'completed': False}, {'userId': 5, 'id': 100, 'title': 'excepturi a et neque qui expedita vel voluptate', 'completed': False}, {'userId': 6, 'id': 101, 'title': 'explicabo enim cumque porro aperiam occaecati minima', 'completed': False}, {'userId': 6, 'id': 102, 'title': 'sed ab consequatur', 'completed': False}, {'userId': 6, 'id': 103, 'title': 'non sunt delectus illo nulla tenetur enim omnis', 'completed': False}, {'userId': 6, 'id': 104, 'title': 'excepturi non laudantium quo', 'completed': False}, {'userId': 6, 'id': 105, 'title': 'totam quia dolorem et illum repellat voluptas optio', 'completed': True}, {'userId': 6, 'id': 106, 'title': 'ad illo quis voluptatem temporibus', 'completed': True}, {'userId': 6, 'id': 107, 'title': 'praesentium facilis omnis laudantium fugit ad iusto nihil nesciunt', 'completed': False}, {'userId': 6, 'id': 108, 'title': 'a eos eaque nihil et exercitationem incidunt delectus', 'completed': True}, {'userId': 6, 'id': 109, 'title': 'autem temporibus harum quisquam in culpa', 'completed': True}, {'userId': 6, 'id': 110, 'title': 'aut aut ea corporis', 'completed': True}, {'userId': 6, 'id': 111, 'title': 'magni accusantium labore et id quis provident', 'completed': False}, {'userId': 6, 'id': 112, 'title': 'consectetur impedit quisquam qui deserunt non rerum consequuntur eius', 'completed': False}, {'userId': 6, 'id': 113, 'title': 'quia atque aliquam sunt impedit voluptatum rerum assumenda nisi', 'completed': False}, {'userId': 6, 'id': 114, 'title': 'cupiditate quos possimus corporis quisquam exercitationem beatae', 'completed': False}, {'userId': 6, 'id': 115, 'title': 'sed et ea eum', 'completed': False}, {'userId': 6, 'id': 116, 'title': 'ipsa dolores vel facilis ut', 'completed': True}, {'userId': 6, 'id': 117, 'title': 'sequi quae est et qui qui eveniet asperiores', 'completed': False}, {'userId': 6, 'id': 118, 'title': 'quia modi consequatur vero fugiat', 'completed': False}, {'userId': 6, 'id': 119, 'title': 'corporis ducimus ea perspiciatis iste', 'completed': False}, {'userId': 6, 'id': 120, 'title': 'dolorem laboriosam vel voluptas et aliquam quasi', 'completed': False}, {'userId': 7, 'id': 121, 'title': 'inventore aut nihil minima laudantium hic qui omnis', 'completed': True}, {'userId': 7, 'id': 122, 'title': 'provident aut nobis culpa', 'completed': True}, {'userId': 7, 'id': 123, 'title': 'esse et quis iste est earum aut impedit', 'completed': False}, {'userId': 7, 'id': 124, 'title': 'qui consectetur id', 'completed': False}, {'userId': 7, 'id': 125, 'title': 'aut quasi autem iste tempore illum possimus', 'completed': False}, {'userId': 7, 'id': 126, 'title': 'ut asperiores perspiciatis veniam ipsum rerum saepe', 'completed': True}, {'userId': 7, 'id': 127, 'title': 'voluptatem libero consectetur rerum ut', 'completed': True}, {'userId': 7, 'id': 128, 'title': 'eius omnis est qui voluptatem autem', 'completed': False}, {'userId': 7, 'id': 129, 'title': 'rerum culpa quis harum', 'completed': False}, {'userId': 7, 'id': 130, 'title': 'nulla aliquid eveniet harum laborum libero alias ut unde', 'completed': True}, {'userId': 7, 'id': 131, 'title': 'qui ea incidunt quis', 'completed': False}, {'userId': 7, 'id': 132, 'title': 'qui molestiae voluptatibus velit iure harum quisquam', 'completed': True}, {'userId': 7, 'id': 133, 'title': 'et labore eos enim rerum consequatur sunt', 'completed': True}, {'userId': 7, 'id': 134, 'title': 'molestiae doloribus et laborum quod ea', 'completed': False}, {'userId': 7, 'id': 135, 'title': 'facere ipsa nam eum voluptates reiciendis vero qui', 'completed': False}, {'userId': 7, 'id': 136, 'title': 'asperiores illo tempora fuga sed ut quasi adipisci', 'completed': False}, {'userId': 7, 'id': 137, 'title': 'qui sit non', 'completed': False}, {'userId': 7, 'id': 138, 'title': 'placeat minima consequatur rem qui ut', 'completed': True}, {'userId': 7, 'id': 139, 'title': 'consequatur doloribus id possimus voluptas a voluptatem', 'completed': False}, {'userId': 7, 'id': 140, 'title': 'aut consectetur in blanditiis deserunt quia sed laboriosam', 'completed': True}, {'userId': 8, 'id': 141, 'title': 'explicabo consectetur debitis voluptates quas quae culpa rerum non', 'completed': True}, {'userId': 8, 'id': 142, 'title': 'maiores accusantium architecto necessitatibus reiciendis ea aut', 'completed': True}, {'userId': 8, 'id': 143, 'title': 'eum non recusandae cupiditate animi', 'completed': False}, {'userId': 8, 'id': 144, 'title': 'ut eum exercitationem sint', 'completed': False}, {'userId': 8, 'id': 145, 'title': 'beatae qui ullam incidunt voluptatem non nisi aliquam', 'completed': False}, {'userId': 8, 'id': 146, 'title': 'molestiae suscipit ratione nihil odio libero impedit vero totam', 'completed': True}, {'userId': 8, 'id': 147, 'title': 'eum itaque quod reprehenderit et facilis dolor autem ut', 'completed': True}, {'userId': 8, 'id': 148, 'title': 'esse quas et quo quasi exercitationem', 'completed': False}, {'userId': 8, 'id': 149, 'title': 'animi voluptas quod perferendis est', 'completed': False}, {'userId': 8, 'id': 150, 'title': 'eos amet tempore laudantium fugit a', 'completed': False}, {'userId': 8, 'id': 151, 'title': 'accusamus adipisci dicta qui quo ea explicabo sed vero', 'completed': True}, {'userId': 8, 'id': 152, 'title': 'odit eligendi recusandae doloremque cumque non', 'completed': False}, {'userId': 8, 'id': 153, 'title': 'ea aperiam consequatur qui repellat eos', 'completed': False}, {'userId': 8, 'id': 154, 'title': 'rerum non ex sapiente', 'completed': True}, {'userId': 8, 'id': 155, 'title': 'voluptatem nobis consequatur et assumenda magnam', 'completed': True}, {'userId': 8, 'id': 156, 'title': 'nam quia quia nulla repellat assumenda quibusdam sit nobis', 'completed': True}, {'userId': 8, 'id': 157, 'title': 'dolorem veniam quisquam deserunt repellendus', 'completed': True}, {'userId': 8, 'id': 158, 'title': 'debitis vitae delectus et harum accusamus aut deleniti a', 'completed': True}, {'userId': 8, 'id': 159, 'title': 'debitis adipisci quibusdam aliquam sed dolore ea praesentium nobis', 'completed': True}, {'userId': 8, 'id': 160, 'title': 'et praesentium aliquam est', 'completed': False}, {'userId': 9, 'id': 161, 'title': 'ex hic consequuntur earum omnis alias ut occaecati culpa', 'completed': True}, {'userId': 9, 'id': 162, 'title': 'omnis laboriosam molestias animi sunt dolore', 'completed': True}, {'userId': 9, 'id': 163, 'title': 'natus corrupti maxime laudantium et voluptatem laboriosam odit', 'completed': False}, {'userId': 9, 'id': 164, 'title': 'reprehenderit quos aut aut consequatur est sed', 'completed': False}, {'userId': 9, 'id': 165, 'title': 'fugiat perferendis sed aut quidem', 'completed': False}, {'userId': 9, 'id': 166, 'title': 'quos quo possimus suscipit minima ut', 'completed': False}, {'userId': 9, 'id': 167, 'title': 'et quis minus quo a asperiores molestiae', 'completed': False}, {'userId': 9, 'id': 168, 'title': 'recusandae quia qui sunt libero', 'completed': False}, {'userId': 9, 'id': 169, 'title': 'ea odio perferendis officiis', 'completed': True}, {'userId': 9, 'id': 170, 'title': 'quisquam aliquam quia doloribus aut', 'completed': False}, {'userId': 9, 'id': 171, 'title': 'fugiat aut voluptatibus corrupti deleniti velit iste odio', 'completed': True}, {'userId': 9, 'id': 172, 'title': 'et provident amet rerum consectetur et voluptatum', 'completed': False}, {'userId': 9, 'id': 173, 'title': 'harum ad aperiam quis', 'completed': False}, {'userId': 9, 'id': 174, 'title': 'similique aut quo', 'completed': False}, {'userId': 9, 'id': 175, 'title': 'laudantium eius officia perferendis provident perspiciatis asperiores', 'completed': True}, {'userId': 9, 'id': 176, 'title': 'magni soluta corrupti ut maiores rem quidem', 'completed': False}, {'userId': 9, 'id': 177, 'title': 'et placeat temporibus voluptas est tempora quos quibusdam', 'completed': False}, {'userId': 9, 'id': 178, 'title': 'nesciunt itaque commodi tempore', 'completed': True}, {'userId': 9, 'id': 179, 'title': 'omnis consequuntur cupiditate impedit itaque ipsam quo', 'completed': True}, {'userId': 9, 'id': 180, 'title': 'debitis nisi et dolorem repellat et', 'completed': True}, {'userId': 10, 'id': 181, 'title': 'ut cupiditate sequi aliquam fuga maiores', 'completed': False}, {'userId': 10, 'id': 182, 'title': 'inventore saepe cumque et aut illum enim', 'completed': True}, {'userId': 10, 'id': 183, 'title': 'omnis nulla eum aliquam distinctio', 'completed': True}, {'userId': 10, 'id': 184, 'title': 'molestias modi perferendis perspiciatis', 'completed': False}, {'userId': 10, 'id': 185, 'title': 'voluptates dignissimos sed doloribus animi quaerat aut', 'completed': False}, {'userId': 10, 'id': 186, 'title': 'explicabo odio est et', 'completed': False}, {'userId': 10, 'id': 187, 'title': 'consequuntur animi possimus', 'completed': False}, {'userId': 10, 'id': 188, 'title': 'vel non beatae est', 'completed': True}, {'userId': 10, 'id': 189, 'title': 'culpa eius et voluptatem et', 'completed': True}, {'userId': 10, 'id': 190, 'title': 'accusamus sint iusto et voluptatem exercitationem', 'completed': True}, {'userId': 10, 'id': 191, 'title': 'temporibus atque distinctio omnis eius impedit tempore molestias pariatur', 'completed': True}, {'userId': 10, 'id': 192, 'title': 'ut quas possimus exercitationem sint voluptates', 'completed': False}, {'userId': 10, 'id': 193, 'title': 'rerum debitis voluptatem qui eveniet tempora distinctio a', 'completed': True}, {'userId': 10, 'id': 194, 'title': 'sed ut vero sit molestiae', 'completed': False}, {'userId': 10, 'id': 195, 'title': 'rerum ex veniam mollitia voluptatibus pariatur', 'completed': True}, {'userId': 10, 'id': 196, 'title': 'consequuntur aut ut fugit similique', 'completed': True}, {'userId': 10, 'id': 197, 'title': 'dignissimos quo nobis earum saepe', 'completed': True}, {'userId': 10, 'id': 198, 'title': 'quis eius est sint explicabo', 'completed': True}, {'userId': 10, 'id': 199, 'title': 'numquam repellendus a magnam', 'completed': True}, {'userId': 10, 'id': 200, 'title': 'ipsam aperiam voluptates qui', 'completed': False}]}`\n",
            "\n",
            "\n",
            "\u001b[0m\n",
            "\n",
            "\u001b[1m> Entering new AgentExecutor chain...\u001b[0m\n",
            "\u001b[32;1m\u001b[1;3m\n",
            "Invoking: `python_repl_ast` with `{'query': \"completed_count = df['completed'].sum()\\ntotal_count = len(df)\\npercentage_completed = (completed_count / total_count) * 100\\npercentage_completed\"}`\n",
            "\n",
            "\n",
            "\u001b[0m\u001b[36;1m\u001b[1;3m45.0\u001b[0m\u001b[32;1m\u001b[1;3mThe percentage of completed todos is 45.0%.\u001b[0m\n",
            "\n",
            "\u001b[1m> Finished chain.\u001b[0m\n",
            "\u001b[36;1m\u001b[1;3m{'input': 'calculate the percentage of completed todos', 'output': 'The percentage of completed todos is 45.0%.'}\u001b[0m\u001b[32;1m\u001b[1;3m45.0% of your todos are completed.\u001b[0m\n",
            "\n",
            "\u001b[1m> Finished chain.\u001b[0m\n"
          ]
        },
        {
          "output_type": "execute_result",
          "data": {
            "text/plain": [
              "{'input': 'what percent of my todos are completed?',\n",
              " 'output': '45.0% of your todos are completed.'}"
            ]
          },
          "metadata": {},
          "execution_count": 49
        }
      ]
    },
    {
      "cell_type": "markdown",
      "source": [
        "### Testing plan\n",
        "- Generate 5 questions for each endpoint.\n",
        "- Go through and populate correct answer.\n",
        "- Set up LLM as judge to determine if answer is correct.\n",
        "- Loop through and see accuracy."
      ],
      "metadata": {
        "id": "ED8yIDCh8pSt"
      }
    },
    {
      "cell_type": "code",
      "source": [
        "test_set = [\n",
        "    [\"Q1\", \"todos\", \"What percentage of all todos are completed?\"],\n",
        "    [\"Q2\", \"todos\", \"Which user has the most incomplete todos?\"],\n",
        "    [\"Q3\", \"todos\", \"How many users have more than 10 completed todos?\"],\n",
        "    [\"Q4\", \"todos\", \"What is the average number of todos per user?\"],\n",
        "    [\"Q5\", \"todos\", \"List the top 3 users by total number of todos assigned to them\"],\n",
        "    [\"Q6\", \"posts\", \"How many total posts are there in the system?\"],\n",
        "    [\"Q7\", \"posts\", \"Who are the top 3 users by number of posts?\"],\n",
        "    [\"Q8\", \"posts\", \"What is the average length of post titles?\"],\n",
        "    [\"Q9\", \"posts\", \"How many users have written at least one post?\"],\n",
        "    [\"Q10\", \"posts\", \"Which user has the longest average post body length?\"],\n",
        "    [\"Q11\", \"comments\", \"What is the average number of comments per post?\"],\n",
        "    [\"Q12\", \"comments\", \"Which post ID has received the most comments?\"],\n",
        "    [\"Q13\", \"comments\", \"How many unique email addresses have left comments?\"],\n",
        "    [\"Q14\", \"comments\", \"What is the total number of comments in the system?\"],\n",
        "    [\"Q15\", \"comments\", \"What is the average length of comment bodies?\"]\n",
        "]"
      ],
      "metadata": {
        "id": "noEhx_JNKB3f"
      },
      "execution_count": null,
      "outputs": []
    },
    {
      "cell_type": "code",
      "source": [
        "ground_truth = [\n",
        "    [\"Q1\", \"45% of todos are completed\"],\n",
        "    [\"Q2\", \"User 4 has the most incomplete todos with 15 incomplete tasks\"],\n",
        "    # ... and so on\n",
        "]"
      ],
      "metadata": {
        "id": "eAf47tCcPnlL"
      },
      "execution_count": null,
      "outputs": []
    },
    {
      "cell_type": "code",
      "source": [
        "from openai import OpenAI\n",
        "from typing import Dict, List"
      ],
      "metadata": {
        "id": "R3C3BrxKQ8xV"
      },
      "execution_count": null,
      "outputs": []
    },
    {
      "cell_type": "code",
      "source": [
        "comparison_schema = {\n",
        "    \"type\": \"object\",\n",
        "    \"properties\": {\n",
        "        \"reasoning\": {\"type\": \"string\"},\n",
        "        \"is_correct\": {\"type\": \"boolean\"}\n",
        "    },\n",
        "    \"required\": [\"reasoning\", \"is_correct\"]\n",
        "}"
      ],
      "metadata": {
        "id": "V5gHpsCUQ9Xj"
      },
      "execution_count": null,
      "outputs": []
    },
    {
      "cell_type": "code",
      "source": [
        "async def evaluate_answer(agent_answer: str, ground_truth: str) -> Dict:\n",
        "    client = OpenAI()\n",
        "    response = await client.chat.completions.create(\n",
        "        model=\"gpt-4o\",\n",
        "        messages=[\n",
        "            {\"role\": \"system\", \"content\": \"You are a judge evaluating if two answers are semantically equivalent. First provide some reasoning as to whether the two are the same. Then label the answer as correct or not.\"},\n",
        "            {\"role\": \"user\", \"content\": f\"Compare these answers:\\nAgent's answer: {agent_answer}\\nGround truth: {ground_truth}\"}\n",
        "        ],\n",
        "        response_format={\"type\": \"json_schema\", \"schema\": comparison_schema}\n",
        "    )\n",
        "    return response.choices[0].message.content"
      ],
      "metadata": {
        "id": "m8jvqPprQ_-P"
      },
      "execution_count": null,
      "outputs": []
    },
    {
      "cell_type": "code",
      "source": [
        "# Main evaluation loop\n",
        "results = []\n",
        "for test_id, endpoint, question in test_set:\n",
        "    # Get agent's answer\n",
        "    agent_answer = agent_executor.invoke({\"input\": question})\n",
        "\n",
        "    # Find corresponding ground truth\n",
        "    truth = next(item[1] for item in ground_truth if item[0] == test_id)\n",
        "\n",
        "    # Evaluate using structured output\n",
        "    evaluation = evaluate_answer(agent_answer, truth)\n",
        "\n",
        "    results.append({\n",
        "        \"id\": test_id,\n",
        "        \"question\": question,\n",
        "        \"agent_answer\": agent_answer,\n",
        "        \"ground_truth\": truth,\n",
        "        \"evaluation\": evaluation\n",
        "    })"
      ],
      "metadata": {
        "id": "RrY8xJutRG5u"
      },
      "execution_count": null,
      "outputs": []
    },
    {
      "cell_type": "code",
      "source": [
        "import pandas as pd\n",
        "\n",
        "# After collecting all results\n",
        "results_df = pd.DataFrame(results)"
      ],
      "metadata": {
        "id": "LkPZPYt1RmLS"
      },
      "execution_count": null,
      "outputs": []
    },
    {
      "cell_type": "code",
      "source": [
        "# Calculate accuracy metrics\n",
        "total_questions = len(results_df)\n",
        "correct_answers = results_df['evaluation'].apply(lambda x: x['is_correct']).sum()\n",
        "accuracy_percentage = (correct_answers / total_questions) * 100\n",
        "\n",
        "# Print accuracy metrics\n",
        "print(f\"Accuracy: {accuracy_percentage:.2f}% ({correct_answers}/{total_questions})\")"
      ],
      "metadata": {
        "id": "4H9nDinbRpxP"
      },
      "execution_count": null,
      "outputs": []
    },
    {
      "cell_type": "code",
      "source": [
        "# Add accuracy by endpoint\n",
        "accuracy_by_endpoint = results_df.groupby('endpoint').agg({\n",
        "    'evaluation': lambda x: sum(item['is_correct'] for item in x),\n",
        "    'id': 'count'\n",
        "}).rename(columns={'evaluation': 'correct', 'id': 'total'})\n",
        "\n",
        "accuracy_by_endpoint['accuracy'] = (accuracy_by_endpoint['correct'] / accuracy_by_endpoint['total'] * 100)\n",
        "\n",
        "# Print detailed breakdown\n",
        "for idx, row in accuracy_by_endpoint.iterrows():\n",
        "    print(f\"{idx}: {row['accuracy']:.2f}% ({int(row['correct'])}/{int(row['total'])})\")"
      ],
      "metadata": {
        "id": "mkiWgSbPRsAN"
      },
      "execution_count": null,
      "outputs": []
    },
    {
      "cell_type": "markdown",
      "source": [
        "To get ground truth\n",
        "- Get each one of those fetch all into a CSV\n",
        "- Feed to julius and have it answer questions"
      ],
      "metadata": {
        "id": "CqA-TB-jSDUX"
      }
    }
  ]
}